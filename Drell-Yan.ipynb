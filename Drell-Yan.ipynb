{
 "cells": [
  {
   "cell_type": "code",
   "execution_count": 800,
   "id": "3ea5552a",
   "metadata": {},
   "outputs": [
    {
     "data": {
      "text/plain": [
       "'\\npiPDF = lhapdf.mkPDF(\"JAM21PionPDFnlonll_double_Mellin/0\").xfxQ2\\npPDF = lhapdf.mkPDF(\"nNNPDF30_nlo_as_0118_p/0\").xfxQ2\\ndPDF = lhapdf.mkPDF(\"nNNPDF30_nlo_as_0118_A2_Z1\").xfxQ2\\nBePDF = lhapdf.mkPDF(\"nNNPDF30_nlo_as_0118_A9_Z4\").xfxQ2\\nFePDF = lhapdf.mkPDF(\"nNNPDF30_nlo_as_0118_A56_Z26\").xfxQ2\\nWPDF = lhapdf.mkPDF(\"nNNPDF30_nlo_as_0118_A184_Z74\").xfxQ2\\nAuPDF = lhapdf.mkPDF(\"nNNPDF30_nlo_as_0118_A197_Z79\").xfxQ2\\n\\nPDFalphas = lhapdf.mkPDF(\"nNNPDF30_nlo_as_0118_p/0\").alphasQ2\\n'"
      ]
     },
     "execution_count": 800,
     "metadata": {},
     "output_type": "execute_result"
    }
   ],
   "source": [
    "import numpy as np\n",
    "import matplotlib.pyplot as plt\n",
    "from scipy.interpolate import interp1d, interp2d\n",
    "from scipy.special import digamma, iv, jv, kv, sici\n",
    "from scipy.integrate import quad, dblquad\n",
    "import lhapdf\n",
    "import pickle\n",
    "import vegas\n",
    "import matplotlib.gridspec as gridspec\n",
    "\n",
    "from mpl_toolkits.mplot3d import axes3d\n",
    "import matplotlib.pyplot as plt\n",
    "cr, cg, cb = plt.cm.Reds(.6), plt.cm.Greens(.6), plt.cm.Blues(.6)\n",
    "cr2, cg2, cb2 = plt.cm.Reds(.8), plt.cm.Greens(.8), plt.cm.Blues(.8)\n",
    "# QED:\n",
    "alpha_em = 1/132 # at around bottom mass\n",
    "\n",
    "# QCD\n",
    "Lambda2 = 0.15**2\n",
    "NC = 3.\n",
    "CA = np.copy(NC)\n",
    "CF = (NC**2-1)/(2.*NC)\n",
    "TR = 1./2.\n",
    "Nf = 3.\n",
    "mN = 0.938\n",
    "mpi = 0.136\n",
    "beta0 = 11/3.*CA - 4./3.*TR*Nf\n",
    "beta1 = 34/3.*CA**2 - 20/3.*CA*TR*Nf - 4*CF*TR*Nf\n",
    "gamma0_cusp = 4\n",
    "gamma1_cusp = (268/9.-4*np.pi**2/3.)*CA - 80/9.*TR*Nf\n",
    "gamma0_V = -6*CF\n",
    "bscale = 2*np.exp(-np.euler_gamma)\n",
    "CF_gamma0_cusp_4pi = 1./4/np.pi * CF * gamma0_cusp\n",
    "beta0_8pi = beta0/8/np.pi\n",
    "two_CF_gamma0_cusp_8pi = 2*CF*gamma0_cusp/8/np.pi\n",
    "\n",
    "# medium parameter\n",
    "rhoG = 0.4/5.068**3\n",
    "muD2 = 0.12\n",
    "muD = np.sqrt(muD2)\n",
    "\n",
    "# TMD NP parameters\n",
    "muNP = 0.667\n",
    "g1f = 0.106\n",
    "g2 = 0.84\n",
    "Qref = 1.5\n",
    "\n",
    "def TMD_NP(b, Q):\n",
    "    bstar = b/np.sqrt(1+muNP**2*b**2)\n",
    "    return np.exp(-g2/2*np.log(b/bstar)*np.log(Q/Qref)/2-g1f*b**2/2)\n",
    "\n",
    "\"\"\"\n",
    "piPDF = lhapdf.mkPDF(\"JAM21PionPDFnlonll_double_Mellin/0\").xfxQ2\n",
    "pPDF = lhapdf.mkPDF(\"nNNPDF30_nlo_as_0118_p/0\").xfxQ2\n",
    "dPDF = lhapdf.mkPDF(\"nNNPDF30_nlo_as_0118_A2_Z1\").xfxQ2\n",
    "BePDF = lhapdf.mkPDF(\"nNNPDF30_nlo_as_0118_A9_Z4\").xfxQ2\n",
    "FePDF = lhapdf.mkPDF(\"nNNPDF30_nlo_as_0118_A56_Z26\").xfxQ2\n",
    "WPDF = lhapdf.mkPDF(\"nNNPDF30_nlo_as_0118_A184_Z74\").xfxQ2\n",
    "AuPDF = lhapdf.mkPDF(\"nNNPDF30_nlo_as_0118_A197_Z79\").xfxQ2\n",
    "\n",
    "PDFalphas = lhapdf.mkPDF(\"nNNPDF30_nlo_as_0118_p/0\").alphasQ2\n",
    "\"\"\""
   ]
  },
  {
   "cell_type": "code",
   "execution_count": null,
   "id": "5690d39a",
   "metadata": {},
   "outputs": [],
   "source": []
  },
  {
   "cell_type": "code",
   "execution_count": 801,
   "id": "b65b0c0d",
   "metadata": {},
   "outputs": [],
   "source": [
    "# Load all the PDFs\n",
    "\n",
    "piPDF = lhapdf.mkPDF(\"JAM21PionPDFnlonll_double_Mellin/0\").xfxQ2\n",
    "pPDF = lhapdf.mkPDF(\"CT18NLO/0\").xfxQ2\n",
    "BePDF = lhapdf.mkPDF(\"EPPS21nlo_CT18Anlo_Be9\").xfxQ2\n",
    "FePDF = lhapdf.mkPDF(\"EPPS21nlo_CT18Anlo_Fe56\").xfxQ2\n",
    "WPDF = lhapdf.mkPDF(\"EPPS21nlo_CT18Anlo_W184\").xfxQ2\n",
    "PtPDF = lhapdf.mkPDF(\"EPPS21nlo_CT18Anlo_Pt195\").xfxQ2\n",
    "AuPDF = lhapdf.mkPDF(\"EPPS21nlo_CT18Anlo_Au197\").xfxQ2\n",
    "PbPDF = lhapdf.mkPDF(\"EPPS21nlo_CT18Anlo_Pb208\").xfxQ2\n",
    "\n",
    "def Neutron(pid, x, Q2):\n",
    "    if pid==1:\n",
    "        return pPDF(2, x, Q2)\n",
    "    elif pid==-1:\n",
    "        return pPDF(-2, x, Q2)\n",
    "    elif pid==2:\n",
    "        return pPDF(1, x, Q2)\n",
    "    elif pid==-2:\n",
    "        return pPDF(-1, x, Q2)\n",
    "    else:\n",
    "        return pPDF(pid, x, Q2)\n",
    "    \n",
    "def pimPDF(pid, x, Q2):\n",
    "    if pid!=21:\n",
    "        return piPDF(-pid, x, Q2)\n",
    "    else:\n",
    "        return pPDF(21, x, Q2)\n",
    "    \n",
    "def dPDF(pid, x, Q2):\n",
    "    return 0.5*( pPDF(pid, x, Q2) + Neutron(pid, x, Q2) )\n",
    "\n",
    "PDFalphas = lhapdf.mkPDF(\"CT18NLO/0\").alphasQ2"
   ]
  },
  {
   "cell_type": "code",
   "execution_count": 802,
   "id": "310ad577",
   "metadata": {},
   "outputs": [],
   "source": [
    "# Collinear energy loss, evolved to scale mu2\n",
    "def B(w):\n",
    "    si, ci = sici(w)\n",
    "    return 4/np.pi*(w**2*si+np.sin(w)+w*np.cos(w)-2*w)/2/w**2\n",
    "\n",
    "@np.vectorize\n",
    "def CollEloss(E0, maxmu2, A):\n",
    "    L = 1.2*5.068*(A**(1/3)-1.0) * np.sqrt(3/5)\n",
    "    q2max = np.min([maxmu2, 5*E0/L])\n",
    "    if q2max<muD2:\n",
    "        return 0.\n",
    "    dx = 4*CF*CA * np.pi * B(maxmu2*L/2/E0) \\\n",
    "         * rhoG*L**2/2/9/E0 * \\\n",
    "         ( PDFalphas(muD2) - PDFalphas(q2max) )\n",
    "    return dx*0"
   ]
  },
  {
   "cell_type": "code",
   "execution_count": null,
   "id": "338389a6",
   "metadata": {},
   "outputs": [],
   "source": []
  },
  {
   "cell_type": "code",
   "execution_count": 803,
   "id": "5eeedbd8",
   "metadata": {},
   "outputs": [],
   "source": [
    "# Load BFKL evolved collision factor (computed and interpolated from the other notebook)\n",
    "with open(\"./BFKL_Evolved_Broadening_Factor.pkl\",'rb') as f:\n",
    "    CollBFKL = pickle.load(f)\n",
    "    \n",
    "def MediumColl(b, A, Ein, mode='el'):\n",
    "    bstar = b/np.sqrt(1+muNP**2*b**2)\n",
    "    L = 1.2*5.068*(A**(1/3)-1.0)*0.75\n",
    "    if mode=='el':\n",
    "        rap = 0\n",
    "    else:\n",
    "        rap = np.log(np.min([1+L/2/bstar, Ein*bstar]))\n",
    "    return np.exp(rhoG*L * CollBFKL(rap, np.log(bstar))[0] )"
   ]
  },
  {
   "cell_type": "code",
   "execution_count": null,
   "id": "d81b64cb",
   "metadata": {},
   "outputs": [],
   "source": []
  },
  {
   "cell_type": "code",
   "execution_count": 804,
   "id": "8f3d5c60",
   "metadata": {},
   "outputs": [],
   "source": [
    "# TMD calculation in the vacuum\n",
    "\n",
    "@np.vectorize\n",
    "def RapidityEvolutionFactor_A(xi0, xi1, mu, b):\n",
    "    mub = bscale/b\n",
    "    L1 = np.log(mu**2/Lambda2)\n",
    "    L0 = np.log(mub**2/Lambda2)\n",
    "    return np.exp( - 4*CF/beta0*np.log(L1/L0) * .5 * np.log(xi1/xi0) )\n",
    "\n",
    "@np.vectorize\n",
    "def RapidityEvolutionFactor_B(mu0, mu1, zeta, b):\n",
    "    mub = bscale/b\n",
    "    L1 = np.log(mu1**2/Lambda2)\n",
    "    L0 = np.log(mu0**2/Lambda2)\n",
    "    zeta0 = mu0**2\n",
    "    return np.exp( - 4*CF/beta0*np.log(L1/L0) * .5 * np.log(zeta/zeta0) )\n",
    "\n",
    "@np.vectorize\n",
    "def ScaleEvolutionFactor(mu0, mu1, xi, b):\n",
    "    mub = bscale/b\n",
    "    L1 = np.log(mu1**2/Lambda2)\n",
    "    L0 = np.log(mu0**2/Lambda2)\n",
    "    S = np.log(L1/L0) * (3. - 2.*np.log(xi/Lambda2)) + 2*np.log(mu1**2/mu0**2)\n",
    "    return np.exp(CF/beta0*S)\n",
    "\n",
    "\n",
    "def CombinedEvolution(b, Q, choice=1):\n",
    "    mu0 = bscale/b\n",
    "    mu1 = Q\n",
    "    zeta0 = mu0**2\n",
    "    zeta1 = Q**2\n",
    "    if choice==1:\n",
    "        # choice 1:\n",
    "        # Step 1, at mu=mu0, evolve dF/deta(mu=mu0, zeta) from zeta0 to zeta1\n",
    "        F1 = RapidityEvolutionFactor_A(zeta0, zeta1, mu0, b)\n",
    "        # Step 2, at fixed mu, evolve dF/dmu(mu, zeta) from zeta=mu^2 to zeta1\n",
    "        # Step 3, at fixed zeta1, evolve B from mu0 to mu1\n",
    "        F2 = ScaleEvolutionFactor(mu0, mu1, zeta1, b)\n",
    "    else:\n",
    "        # choice 2:\n",
    "        # Step 1, at zeta=zeta0, evolve B(mu, zeta0) from mu0 to mu1 --> B(mu1, zeta0)\n",
    "        F2 = ScaleEvolutionFactor(mu0, mu1, zeta0, b)\n",
    "        # Step 2, at a fix zeta evolve dF/deta(mu, zeta)| = K(mu) from mu0 to mu --> K(mu1)\n",
    "        # Step 2, at mu1, evolve B(mu1, zeta0) from zeta0 to zeta1 --> B(mu1, zeta1)\n",
    "        F1 = RapidityEvolutionFactor_B(mu0, mu1, zeta1, b)\n",
    "    return F1*F2"
   ]
  },
  {
   "cell_type": "code",
   "execution_count": null,
   "id": "c1bc72f5",
   "metadata": {},
   "outputs": [],
   "source": []
  },
  {
   "cell_type": "code",
   "execution_count": 805,
   "id": "4ea9a02c",
   "metadata": {},
   "outputs": [],
   "source": [
    "# TMDPDF: dN/d^2 k\n",
    "@np.vectorize\n",
    "def CNM_corrected_TMDPDF(A, PDF, pid, x, kT, Q, E0):\n",
    "    Nz = 51\n",
    "    z = np.exp(np.linspace(np.log(x),np.log(.99), Nz))\n",
    "    dlnz = np.log(z[1]/z[0])\n",
    "    \n",
    "    # vacuum PDF at scale kT\n",
    "    def df(lnb):\n",
    "        \n",
    "        b = np.exp(lnb)\n",
    "        bstar = b/np.sqrt(1+muNP**2*b**2)\n",
    "        mub = bscale/bstar\n",
    "        zeta0 = mub**2\n",
    "        abar = PDFalphas(mub**2)*CF/2/np.pi\n",
    "        \n",
    "        delta_z = CollEloss(z*E0, mub**2, A) if A>2 else 0\n",
    "        xFxQ2 = np.array([ PDF(pid, ix, mub**2) if ix<0.999 else 0.\n",
    "                           for ix in z*(1+delta_z) ]) \\\n",
    "              / (1+delta_z)**(1+CF/2/CA)\n",
    "        \n",
    "        Lb = np.log(mub**2*bstar**2/bscale**2)\n",
    "        Matching = \\\n",
    "        xFxQ2[0]*( 1. + abar*(Lb*np.log(mub**2/zeta0) - Lb**2/2. - np.pi**2/12.) )   \\\n",
    "          + abar*(      ( xFxQ2[::-1] * z*(1.-z) ).sum() \\\n",
    "               - Lb * ( ( xFxQ2[::-1]*(1+z**2) - 2.*xFxQ2[0] ) * z/(1.-z) ).sum()\n",
    "               ) * dlnz\n",
    "        \n",
    "        return Matching * CombinedEvolution(bstar, Q) \\\n",
    "             * jv(0, kT*b) \\\n",
    "             * TMD_NP(b, Q)\\\n",
    "             * ( MediumColl(b, A, x*E0, 'inel') if A>2 else 1) \\\n",
    "             * b**2\n",
    "    \n",
    "    return quad(df, np.log(.1/Q), np.log(10/np.sqrt(g1f)), epsrel=1e-2)[0]"
   ]
  },
  {
   "cell_type": "code",
   "execution_count": null,
   "id": "83618583",
   "metadata": {},
   "outputs": [],
   "source": []
  },
  {
   "cell_type": "code",
   "execution_count": 806,
   "id": "893db802",
   "metadata": {},
   "outputs": [],
   "source": [
    "# The TMDPDF after CNM\n",
    "Q = 4.0\n",
    "E = 400\n",
    "kT = np.linspace(.1, 1.4, 11)\n",
    "\n",
    "Xs = np.exp(np.linspace(np.log(.025),np.log(.7), 11))\n",
    "R = np.zeros([kT.size, Xs.size])\n",
    "for i, x in enumerate(Xs):\n",
    "    Y0 = CNM_corrected_TMDPDF(1, pPDF, 2, x, kT, Q, E)\n",
    "    Y1 = CNM_corrected_TMDPDF(197, pPDF, 2, x, kT, Q, E)\n",
    "    R[:,i] = Y1/Y0"
   ]
  },
  {
   "cell_type": "code",
   "execution_count": null,
   "id": "76e11596",
   "metadata": {},
   "outputs": [],
   "source": []
  },
  {
   "cell_type": "code",
   "execution_count": 807,
   "id": "ea49bd43",
   "metadata": {
    "scrolled": true
   },
   "outputs": [
    {
     "name": "stderr",
     "output_type": "stream",
     "text": [
      "/home/weiyao/miniconda3/lib/python3.7/site-packages/ipykernel_launcher.py:23: UserWarning: Tight layout not applied. The left and right margins cannot be made large enough to accommodate all axes decorations. \n"
     ]
    },
    {
     "data": {
      "image/png": "[encoded data removed]",
      "text/plain": [
       "<Figure size 270x288 with 1 Axes>"
      ]
     },
     "metadata": {
      "needs_background": "light"
     },
     "output_type": "display_data"
    }
   ],
   "source": [
    "fig = plt.figure(figsize=(3.75, 4))\n",
    "ax = fig.add_subplot(projection='3d')\n",
    "\n",
    "X, Y = np.meshgrid(kT, Xs)\n",
    "X = X.T\n",
    "Y = Y.T\n",
    "\n",
    "# Plot the 3D surface\n",
    "#ax.plot_surface(X, np.log(Y), R1, edgecolor='red', lw=0.5, rstride=2, cstride=2,\n",
    "#                alpha=0.3)\n",
    "ax.plot_surface(X, np.log(Y), R, edgecolor='royalblue', lw=0.5, rstride=2, cstride=2,\n",
    "                alpha=0.25, linewidth=1.5)\n",
    "ax.set_yticks([np.log(0.05), np.log(0.5)])\n",
    "ax.set_yticklabels(['0.05', '0.5'])\n",
    "ax.set_zlim(0.75,1.15)\n",
    "ax.set_xlim(0.1,1.4)\n",
    "ax.set_ylim(np.log(0.025),np.log(.8))\n",
    "ax.set_ylabel(r\"$x_{p}$\", fontsize=15)\n",
    "ax.set_xlabel(r\"$k_T$ [GeV]\", fontsize=15)\n",
    "ax.set_zlabel(r\"$f_{u/p, \\rm CNM}/f_{u/p, \\rm vac}$\", fontsize=15)\n",
    "ax.annotate(r\"$Q_0=4.0$ GeV, $E_0=400$ GeV\", fontsize=15, xy=(.01,.9), xycoords=\"axes fraction\")\n",
    "ax.view_init(15, 240)\n",
    "plt.tight_layout()\n",
    "plt.subplots_adjust(top=1, bottom=.0, left=0.16, right=.97)\n",
    "plt.savefig(\"figs/Dynamical_broadening.png\", dpi=300, transparent=True)"
   ]
  },
  {
   "cell_type": "code",
   "execution_count": null,
   "id": "7b290084",
   "metadata": {},
   "outputs": [],
   "source": []
  },
  {
   "cell_type": "code",
   "execution_count": null,
   "id": "52605f08",
   "metadata": {},
   "outputs": [],
   "source": [
    "# Inclusive DY, LO\n",
    "@np.vectorize\n",
    "def DY_dsigma_dxFdsstau(PDF1, PDF2, pid1, pid2, sqrts, sstau, xF, scale=1):\n",
    "    Q = sqrts * sstau\n",
    "    x1 = (np.sqrt(xF**2+4*sstau**2) +xF ) /2.\n",
    "    x2 = (np.sqrt(xF**2+4*sstau**2) -xF ) /2.\n",
    "    \n",
    "    if (x1>1 or x2>1):\n",
    "        return 0.\n",
    "    \n",
    "    Jacobian = sqrts**2 / np.sqrt(1+xF**2/4/sstau**2)\n",
    "    \n",
    "    ch= {1:1/3, 2:2/3, 3:1/3}[np.abs(pid1)]\n",
    "    Prefactor = 4*np.pi/9*(1/137)**2/Q**4 * Q**2 * 20\n",
    "    \n",
    "    return Prefactor * ch**2 * PDF1(pid1, x1, scale*Q**2) * PDF2(pid2, x2, scale*Q**2) \n",
    "\n",
    "\n",
    "@np.vectorize\n",
    "def DY_dsigma_dsstaudy(PDF1, PDF2, pid, sqrts, sstau, y, scale=1):\n",
    "    Q = sstau*sqrts\n",
    "    x1 = Q/sqrts*np.exp(y)\n",
    "    x2 = Q/sqrts*np.exp(-y)\n",
    "    \n",
    "    if (x1>1 or x2>1):\n",
    "        return 0.\n",
    "    \n",
    "    ch= {1:1/3, 2:2/3, 3:1/3}[np.abs(pid)]\n",
    "    Prefactor = 4*np.pi/9*(1/137)**2/Q**4 \n",
    "    Jacobian = 2*Q*sqrts\n",
    "    return Prefactor * ch**2 * (\n",
    "        PDF1(pid, x1, scale*Q**2) * PDF2(-pid, x2, scale*Q**2) \n",
    "      + PDF1(-pid, x1, scale*Q**2) * PDF2(pid, x2, scale*Q**2) \n",
    "    ) * Jacobian"
   ]
  },
  {
   "cell_type": "code",
   "execution_count": null,
   "id": "24efebda",
   "metadata": {},
   "outputs": [],
   "source": []
  },
  {
   "cell_type": "code",
   "execution_count": null,
   "id": "b2a90162",
   "metadata": {},
   "outputs": [],
   "source": []
  },
  {
   "cell_type": "code",
   "execution_count": 318,
   "id": "a5014ed0",
   "metadata": {},
   "outputs": [],
   "source": [
    "# TMD for DY\n",
    "def TMDPDF_in_A(A, PDF, ipid, z, dlnz, b, Q, E0, mode):\n",
    "    bstar = b/np.sqrt(1+muNP**2*b**2)\n",
    "    mub = bscale/bstar\n",
    "    zeta0 = mub**2\n",
    "    abar = PDFalphas(mub**2)*CF/2/np.pi\n",
    "\n",
    "    delta_z = CollEloss(z*E0, mub**2, A) if A>2 else 0\n",
    "    xFxQ2 = np.array([ PDF(ipid, ix, mub**2) if ix<0.99 else 0.\n",
    "                       for ix in z*(1+delta_z) ]) \\\n",
    "          / (1+delta_z)**(1+CF/2/CA)\n",
    "\n",
    "    Lb = np.log(mub**2*bstar**2/bscale**2)\n",
    "    Matching = \\\n",
    "    xFxQ2[0]*( 1. + abar*(Lb*np.log(mub**2/zeta0) - Lb**2/2. - np.pi**2/12.) )   \\\n",
    "      + abar*(      ( xFxQ2[::-1] * z*(1.-z) ).sum() \\\n",
    "           - Lb * ( ( xFxQ2[::-1]*(1+z**2) - 2.*xFxQ2[0] ) * z/(1.-z) ).sum()\n",
    "           ) * dlnz\n",
    "\n",
    "    return Matching \\\n",
    "        * CombinedEvolution(bstar, Q) \\\n",
    "        * ( MediumColl(b, A, z[0]*E0, mode) if A>2 else 1)\\\n",
    "        * TMD_NP(b, Q)\n",
    "\n",
    "\n",
    "@np.vectorize\n",
    "def DY_dsigma_dQ2kTdkTdy(E1, E2, m1, m2, PDF1, PDF2,\n",
    "                         pid, M, y, kT, \n",
    "                         A1, A2, mode='el'):\n",
    "    ch= {1:1/3, 2:2/3, 3:1/3}[np.abs(pid)]\n",
    "    P1 = np.sqrt(np.abs(E1**2-m1**2)); P2 = np.sqrt(np.abs(E2**2-m2**2))\n",
    "    sqrts = np.sqrt(2*E1*E2 + 2*P1*P2 + m1**2 + m2**2)\n",
    "    tau = (M**2+kT**2)/sqrts**2\n",
    "    Q = np.sqrt(M**2+kT**2)\n",
    "    x1 = np.sqrt(tau)*np.exp(y)\n",
    "    x2 = np.sqrt(tau)*np.exp(-y)\n",
    "    if (x1<0) or (x1>1) or (x2<0) or (x2>1):\n",
    "        return 0\n",
    "    \n",
    "    Nz = 21\n",
    "    z1 = np.exp(np.linspace(np.log(x1),np.log(.99), Nz)); dlnz1 = np.log(z1[1]/z1[0])\n",
    "    z2 = np.exp(np.linspace(np.log(x2),np.log(.99), Nz)); dlnz2 = np.log(z2[1]/z2[0])    \n",
    "    Prefactor = 4*np.pi*alpha_em**2/3./NC/Q**2/sqrts**2/x1/x2 * ch**2\n",
    "    \n",
    "    def df(lnb):\n",
    "        b = np.exp(lnb)\n",
    "        tmd1 = TMDPDF_in_A(A2, PDF1, pid, z1, dlnz1, b, Q, E1, mode)\n",
    "        tmd2 = TMDPDF_in_A(A1, PDF2, -pid, z2, dlnz2, b, Q, E2, mode)\n",
    "        return tmd1 * tmd2 * jv(0, kT*b) *  b**2\n",
    "    \n",
    "    return Prefactor * quad(df, np.log(0.1/Q), np.log(10/np.sqrt(g1f)), epsrel=.01)[0]\n",
    "\n"
   ]
  },
  {
   "cell_type": "code",
   "execution_count": 319,
   "id": "a279739a",
   "metadata": {},
   "outputs": [
    {
     "name": "stdout",
     "output_type": "stream",
     "text": [
      "15.0 17.49793559364175\n",
      "17.49793559364175 20.411850002615655\n",
      "20.411850002615655 23.81101577952299\n",
      "23.81101577952299 27.77624136861871\n",
      "27.77624136861871 32.401792166769184\n",
      "32.401792166769184 37.797631496846186\n",
      "37.797631496846186 44.09203476826796\n",
      "44.09203476826796 51.434638971184356\n",
      "51.434638971184356 59.999999999999986\n"
     ]
    }
   ],
   "source": [
    "# Compare to ATLAS\n",
    "pids = [1,2,3,-1,-2,-3]\n",
    "conversion = 1/5.076**2 * 0.01 * 10**9\n",
    "Rapbins = np.linspace(-2.86, 1.93, 9)\n",
    "Raps = (Rapbins[1:]+Rapbins[:-1])/2.\n",
    "pTatlas = np.array([0.25,0.5,1,2,3,5,7.5,10,12.5,15,17.5,20,25,30])\n",
    "Ms = np.exp(np.linspace(np.log(15), np.log(60), 10))\n",
    "Res = np.zeros_like(pTatlas)\n",
    "for M1, M2 in zip(Ms[:-1], Ms[1:]):\n",
    "    print(M1, M2)\n",
    "    Mavg = (M1+M2)/2\n",
    "    Res += np.average( [np.sum([DY_dsigma_dQ2kTdkTdy(8160**2/2/mN, mN, mN, mN, pPDF, pPDF,\n",
    "                                   pid, Mavg, Rap, pTatlas, \n",
    "                                   1, 1) for pid in pids], axis=0)\\\n",
    "            * (M2**2-M1**2) / 2/np.pi * conversion\n",
    "                      for Rap in Raps], axis=0\n",
    "                     )"
   ]
  },
  {
   "cell_type": "code",
   "execution_count": 323,
   "id": "8314c292",
   "metadata": {},
   "outputs": [
    {
     "name": "stdout",
     "output_type": "stream",
     "text": [
      "15.0 17.49793559364175\n",
      "17.49793559364175 20.411850002615655\n",
      "20.411850002615655 23.81101577952299\n",
      "23.81101577952299 27.77624136861871\n",
      "27.77624136861871 32.401792166769184\n",
      "32.401792166769184 37.797631496846186\n",
      "37.797631496846186 44.09203476826796\n",
      "44.09203476826796 51.434638971184356\n",
      "51.434638971184356 59.999999999999986\n"
     ]
    }
   ],
   "source": [
    "ResPb = np.zeros_like(pTatlas)\n",
    "for M1, M2 in zip(Ms[:-1], Ms[1:]):\n",
    "    print(M1, M2)\n",
    "    Mavg = (M1+M2)/2\n",
    "    ResPb += np.average( [np.sum([DY_dsigma_dQ2kTdkTdy(8160**2/2/mN, mN, mN, mN, pPDF, PbPDF,\n",
    "                                   pid, Mavg, Rap, pTatlas, \n",
    "                                   1, 208, mode='inel') for pid in pids], axis=0)\\\n",
    "            * (M2**2-M1**2) / 2/np.pi * conversion\n",
    "                      for Rap in Raps], axis=0\n",
    "                     )"
   ]
  },
  {
   "cell_type": "code",
   "execution_count": 390,
   "id": "0ea873cc",
   "metadata": {},
   "outputs": [
    {
     "name": "stderr",
     "output_type": "stream",
     "text": [
      "/home/weiyao/miniconda3/lib/python3.7/site-packages/ipykernel_launcher.py:38: UserWarning: Tight layout not applied. tight_layout cannot make axes height small enough to accommodate all axes decorations\n",
      "/home/weiyao/miniconda3/lib/python3.7/site-packages/IPython/core/pylabtools.py:134: UserWarning: Tight layout not applied. tight_layout cannot make axes height small enough to accommodate all axes decorations\n",
      "  fig.canvas.print_figure(bytes_io, **kw)\n"
     ]
    },
    {
     "data": {
      "image/png": "[encoded data removed]",
      "text/plain": [
       "<Figure size 270x302.4 with 2 Axes>"
      ]
     },
     "metadata": {
      "needs_background": "light"
     },
     "output_type": "display_data"
    }
   ],
   "source": [
    "def plotATLAS(ax):\n",
    "    pT, pTl, pTh, dsigma, stat, _, sys, _ = np.loadtxt(\"./Expdata/ATLAS-RpPb-8160GeV.dat\").T\n",
    "    ax.errorbar(pT, dsigma, yerr=stat, fmt='.', color=cg2, label='ATLAS, $p$Pb')\n",
    "    for xl, xh, yl, yh in zip(pTl, pTh, dsigma-sys, dsigma+sys):\n",
    "        ax.fill_between([xl, xh], [yl]*2, [yh]*2, color=cg2, alpha=.35)\n",
    "\n",
    "fig = plt.figure(figsize=(3.75, 4.2), tight_layout=True)\n",
    "gs = gridspec.GridSpec(10, 1)\n",
    "ax = fig.add_subplot(gs[:7, 0])\n",
    "ax2 = fig.add_subplot(gs[7:, 0])\n",
    "\n",
    "plotATLAS(ax)\n",
    "ax.plot(pTatlas, Res*pTatlas*np.pi*2*(1.93+2.84)*208*2, 'k-', label=r'$pp\\times 2$')\n",
    "ax.plot(pTatlas, ResPb*pTatlas*np.pi*2*(1.93+2.84)*208*2, '--', color=cg, label=r'$p$Pb $\\times 2$')\n",
    "\n",
    "ax.set_xlabel(r\"$p_T$ [GeV]\", fontsize=13)\n",
    "ax.set_ylabel(r\"$d\\sigma/\\pi dp_T^2 dy$ [nb/GeV${}^2$]\", fontsize=13)\n",
    "ax.legend(loc='lower left', framealpha=0)\n",
    "ax.semilogy()\n",
    "#ax.semilogx()\n",
    "ax.set_ylim(2e-1, 1e2)\n",
    "ax.set_xlim(0,25)\n",
    "ax.annotate(\"$\\sqrt{s_{NN}}=8.16$ TeV\\n$-2.84<y_{{\\mathrm{cm}}}<1.93$\\n$15<M<60$ GeV\", \n",
    "            xy=(.525, .55), xycoords=\"axes fraction\")\n",
    "ax.annotate(\"Calculations do not \\ninclude the $qg$ channel!\", xy=(.03,.85), xycoords='axes fraction')\n",
    "\n",
    "ax2.plot([0,30],[1,1],'k:')\n",
    "ax2.plot(pTatlas, ResPb/Res, '--', color=cg)\n",
    "\n",
    "ax2.set_ylim(0.5,1.2)\n",
    "ax2.set_xlim(0,25)\n",
    "ax.set_xticklabels([])\n",
    "ax2.set_ylabel(r\"$R_{pA}$\", fontsize=13)\n",
    "ax2.set_xlabel(r\"$p_T$ [GeV]\", fontsize=13)\n",
    "#plt.tight_layout()\n",
    "\n",
    "plt.subplots_adjust(left=.2, right=.97, top=.98)\n",
    "plt.savefig(\"figs/DY-pPb-ATLAS.png\", dpi=300)"
   ]
  },
  {
   "cell_type": "code",
   "execution_count": null,
   "id": "1c952e6d",
   "metadata": {},
   "outputs": [],
   "source": []
  },
  {
   "cell_type": "code",
   "execution_count": 183,
   "id": "7a4a3d26",
   "metadata": {},
   "outputs": [
    {
     "name": "stdout",
     "output_type": "stream",
     "text": [
      "4.8 5.52\n",
      "5.52 6.24\n",
      "6.24 6.96\n",
      "6.96 7.68\n",
      "7.68 8.4\n"
     ]
    }
   ],
   "source": [
    "# Compare to PHENIX\n",
    "pids = [1,2,3,-1,-2,-3]\n",
    "conversion = 1/5.076**2 * 0.01 * 10**9\n",
    "Rapbins = np.linspace(1.2, 2.2, 5)\n",
    "Raps = (Rapbins[1:]+Rapbins[:-1])/2.\n",
    "pT = np.array([0.25, 0.75, 1.25, 1.75, 2.25,\n",
    "                 2.75, 3.25, 3.75, 4.25, 4.75,\n",
    "                 5.25, 5.75])\n",
    "Ms = np.linspace(4.8, 8.4, 6)\n",
    "Res = np.zeros_like(pT)\n",
    "for M1, M2 in zip(Ms[:-1], Ms[1:]):\n",
    "    print(M1, M2)\n",
    "    Mavg = (M1+M2)/2\n",
    "    Res += np.average( [np.sum([DY_dsigma_dQ2kTdkTdy(100, 100, mN, mN, pPDF, pPDF,\n",
    "                                   pid, Mavg, Rap, pT, \n",
    "                                   1, 1) for pid in pids], axis=0)\\\n",
    "            * (M2**2-M1**2) / 2/np.pi * conversion\n",
    "                      for Rap in Raps], axis=0\n",
    "                     )"
   ]
  },
  {
   "cell_type": "code",
   "execution_count": 278,
   "id": "fe6b0134",
   "metadata": {},
   "outputs": [
    {
     "data": {
      "image/png": "[encoded data removed]",
      "text/plain": [
       "<Figure size 270x234 with 1 Axes>"
      ]
     },
     "metadata": {
      "needs_background": "light"
     },
     "output_type": "display_data"
    }
   ],
   "source": [
    "def plotPHENIX(ax):\n",
    "    pT, dsigma, stat, sys1p, sys1m, sys2 = np.loadtxt(\"./Expdata/PHENIX-pp-DY-200GeV.dat\").T\n",
    "    dsigma /= 1e3\n",
    "    stat  /= 1e3\n",
    "    sys1p  /= 1e3\n",
    "    sys1m  /= 1e3 \n",
    "    sys2 /= 1e3\n",
    "    ax.errorbar(pT, dsigma, yerr=stat, fmt='ko', label='PHENIX, $pp$')\n",
    "    pTl = pT-0.25\n",
    "    pTh = pT+0.25\n",
    "    for xl, xh, yl, yh in zip(pTl, pTh, dsigma-sys2, dsigma+sys2):\n",
    "        ax.fill_between([xl, xh], [yl]*2, [yh]*2, color='k', alpha=.3)\n",
    "    for xl, xh, yl, yh in zip(pTl, pTh, dsigma+sys1p, dsigma+sys1m):\n",
    "        ax.fill_between([xl, xh], [yl]*2, [yh]*2, facecolor='none', edgecolor='k', alpha=.3)\n",
    "    \n",
    "fig, ax = plt.subplots(ncols=1, nrows=1, figsize=(3.75, 3.25), sharex=True, sharey=True)\n",
    "plotPHENIX(ax)\n",
    "ax.plot(pT, Res, 'k-', label='NLO TMD, vac')\n",
    "ax.semilogy()\n",
    "\n",
    "ax.set_xlabel(r\"$p_T$ [GeV]\", fontsize=13)\n",
    "ax.set_ylabel(r\"$d\\sigma/\\pi dp_T^2 dy$ [nb/GeV${}^2$]\", fontsize=13)\n",
    "ax.legend(loc='lower left', framealpha=0)\n",
    "ax.semilogy()\n",
    "ax.set_ylim(5e-6,5e-2)\n",
    "ax.set_xlim(0,6)\n",
    "ax.annotate(\"$\\sqrt{s_{NN}}=200$ GeV\\n$1.2<|y|<2.2$\\n$4.8<M<8.4$ GeV\", xy=(.5, .67), xycoords=\"axes fraction\")\n",
    "\n",
    "plt.tight_layout()\n",
    "\n",
    "plt.savefig(\"figs/DY-pp-PHENIX.png\", dpi=300)"
   ]
  },
  {
   "cell_type": "code",
   "execution_count": 244,
   "id": "955bd369",
   "metadata": {},
   "outputs": [
    {
     "name": "stdout",
     "output_type": "stream",
     "text": [
      "4.8 5.52\n",
      "5.52 6.24\n",
      "6.24 6.96\n",
      "6.96 7.68\n",
      "7.68 8.4\n"
     ]
    }
   ],
   "source": [
    "# Project PHENIX\n",
    "pids = [1,2,3,-1,-2,-3]\n",
    "conversion = 1/5.076**2 * 0.01 * 10**9\n",
    "Rapbins = np.linspace(1.2, 2.2, 5)\n",
    "Raps = (Rapbins[1:]+Rapbins[:-1])/2.\n",
    "pT = np.array([0.25, 0.75, 1.25, 1.75, 2.25,\n",
    "                 2.75, 3.25, 3.75, 4.25, 4.75,\n",
    "                 5.25, 5.75])\n",
    "Ms = np.linspace(4.8, 8.4, 6)\n",
    "ResRad = np.zeros_like(pT)\n",
    "for M1, M2 in zip(Ms[:-1], Ms[1:]):\n",
    "    print(M1, M2)\n",
    "    Mavg = (M1+M2)/2\n",
    "    ResRad += np.average( [np.sum([DY_dsigma_dQ2kTdkTdy(200**2/2/mN, mN, mN, mN, pPDF, AuPDF,\n",
    "                                   pid, Mavg, Rap, pT, \n",
    "                                   1, 197, mode='inel') for pid in pids], axis=0)\\\n",
    "            * (M2**2-M1**2) / 2/np.pi * conversion\n",
    "                      for Rap in Raps], axis=0\n",
    "                     )"
   ]
  },
  {
   "cell_type": "code",
   "execution_count": null,
   "id": "056ad535",
   "metadata": {},
   "outputs": [],
   "source": []
  },
  {
   "cell_type": "code",
   "execution_count": 245,
   "id": "8fdec547",
   "metadata": {},
   "outputs": [
    {
     "name": "stdout",
     "output_type": "stream",
     "text": [
      "4.8 5.52\n",
      "5.52 6.24\n",
      "6.24 6.96\n",
      "6.96 7.68\n",
      "7.68 8.4\n"
     ]
    }
   ],
   "source": [
    "ResRad_Augo = np.zeros_like(pT)\n",
    "for M1, M2 in zip(Ms[:-1], Ms[1:]):\n",
    "    print(M1, M2)\n",
    "    Mavg = (M1+M2)/2\n",
    "    ResRad_Augo += np.average( [np.sum([DY_dsigma_dQ2kTdkTdy(200**2/2/mN, mN, mN, mN, pPDF, AuPDF,\n",
    "                                   pid, Mavg, -Rap, pT, \n",
    "                                   1, 197, mode='inel') for pid in pids], axis=0)\\\n",
    "            * (M2**2-M1**2) / 2/np.pi * conversion\n",
    "                      for Rap in Raps], axis=0\n",
    "                     )"
   ]
  },
  {
   "cell_type": "code",
   "execution_count": 284,
   "id": "1fc6ae37",
   "metadata": {},
   "outputs": [
    {
     "data": {
      "image/png": "[encoded data removed]",
      "text/plain": [
       "<Figure size 270x302.4 with 2 Axes>"
      ]
     },
     "metadata": {
      "needs_background": "light"
     },
     "output_type": "display_data"
    }
   ],
   "source": [
    "fig = plt.figure(figsize=(3.75, 4.2), tight_layout=True)\n",
    "gs = gridspec.GridSpec(10, 1)\n",
    "ax1 = fig.add_subplot(gs[:6, 0])\n",
    "ax2 = fig.add_subplot(gs[6:, 0])\n",
    "\n",
    "def plotPHENIX_RpA_A(ax):\n",
    "    pT, y, stat, sys = np.loadtxt(\"./Expdata/PHENIX-RpA-Au-going-DY-200GeV.dat\").T\n",
    "    ax.errorbar(pT, y, yerr=stat, fmt='o', color=cr2, label='PHENIX, $pp$')\n",
    "    pTl = pT-0.15\n",
    "    pTh = pT+0.15\n",
    "    for xl, xh, yl, yh in zip(pTl, pTh, y-sys, y+sys):\n",
    "        ax.fill_between([xl, xh], [yl]*2, [yh]*2, color=cr2, alpha=.3)\n",
    "        \n",
    "def plotPHENIX_RpA_p(ax):\n",
    "    pT, y, stat, sys = np.loadtxt(\"./Expdata/PHENIX-RpA-p-going-DY-200GeV.dat\").T\n",
    "    ax.errorbar(pT, y, yerr=stat, fmt='o', mfc='none', color=cb2, label='PHENIX, $pp$')\n",
    "    pTl = pT-0.15\n",
    "    pTh = pT+0.15\n",
    "    for xl, xh, yl, yh in zip(pTl, pTh, y-sys, y+sys):\n",
    "        ax.fill_between([xl, xh], [yl]*2, [yh]*2, color=cb2, alpha=.3)\n",
    "\n",
    "plotPHENIX(ax1)\n",
    "ax1.plot(pT, Res, 'k-', label='$pp$', lw=2.2)\n",
    "ax1.plot(pT, ResRad, '--', color=cb, label=r'$p$Au, $p$-going', lw=2.2)\n",
    "ax1.plot(pT, ResRad_Augo, '-.', color=cr, label=r'$p$Au, Au-going', lw=2.2)\n",
    "ax1.semilogy()\n",
    "ax1.set_xlim(0,6)\n",
    "ax1.set_ylim(5e-6,5e-2)\n",
    "ax1.set_ylabel(r\"$d\\sigma/\\pi dp_T^2 dy$ [nb/GeV${}^2$]\", fontsize=13)\n",
    "ax1.legend(loc='lower left', framealpha=0)\n",
    "ax1.set_xticks([])\n",
    "\n",
    "plotPHENIX_RpA_A(ax2)\n",
    "plotPHENIX_RpA_p(ax2)\n",
    "ax2.plot([0,6], [1,1], 'k:')\n",
    "ax2.set_xlabel(r\"$p_T$ [GeV]\", fontsize=13)\n",
    "ax2.set_xlim(0,6)\n",
    "ax2.set_ylim(0.,2)\n",
    "#ax2.set_yticks([.8, 1., 1.2])\n",
    "ax2.set_ylabel(r\"$R_{pA}$\", fontsize=13)\n",
    "ax2.plot(pT, ResRad/Res, '--', color=cb, lw=3)\n",
    "ax2.plot(pT, ResRad_Augo/Res, '-.', color=cr, lw=3)\n",
    "ax2.annotate(\"PHENIX\\npreliminary\", xy=(.05,.7), xycoords=\"axes fraction\")\n",
    "ax1.annotate(\"$\\sqrt{s_{NN}}=200$ GeV\\n$1.2<|y|<2.2$\\n$4.8<M<8.4$ GeV\", xy=(.5, .67), xycoords=\"axes fraction\")\n",
    "plt.tight_layout()\n",
    "plt.subplots_adjust(hspace=0)\n",
    "plt.savefig(\"figs/DY-pp-pA-PHENIX.png\", dpi=300)"
   ]
  },
  {
   "cell_type": "code",
   "execution_count": 105,
   "id": "44a02936",
   "metadata": {
    "scrolled": false
   },
   "outputs": [
    {
     "name": "stdout",
     "output_type": "stream",
     "text": [
      "5 6\n",
      "6 7\n",
      "7 8\n",
      "11 12\n",
      "12 13\n",
      "13 14\n"
     ]
    },
    {
     "data": {
      "image/png": "[encoded data removed]",
      "text/plain": [
       "<Figure size 648x432 with 6 Axes>"
      ]
     },
     "metadata": {
      "needs_background": "light"
     },
     "output_type": "display_data"
    }
   ],
   "source": [
    "# Compare to vac data\n",
    "pids = [1,2,3,-1,-2,-3]\n",
    "fig, axes = plt.subplots(ncols=3, nrows=2, figsize=(3*3, 2*3), sharex=True, sharey=True)\n",
    "axes = axes.flatten()\n",
    "Rap = 0.0\n",
    "conversion = 1/5.076**2 * 0.01 * 10**9\n",
    "X = []\n",
    "Yvac = []\n",
    "Ycoll = []\n",
    "Yrad = []\n",
    "for (M1, M2), ax in zip([(5,6),(6,7),(7,8),(11,12),(12,13),(13,14)], axes):\n",
    "    print(M1, M2)\n",
    "    Mavg = (M1+M2)/2.\n",
    "    x, xl, xh, y, yerr = np.loadtxt(\"./Expdata/DY-kT-sqrts400-Q-{}-{}.dat\".format(M1, M2), usecols=[0,1,2,3,4]).T\n",
    "    E = 1/10**6\n",
    "    y *= E\n",
    "    yerr *= E\n",
    "    \n",
    "    kTs = np.linspace(0.1, 3.0, 21)\n",
    "    \n",
    "    Y0 = np.sum([DY_dsigma_dQ2kTdkTdy(400, mN, mN, mN, pPDF, pPDF,\n",
    "                                      pid, Mavg, Rap, kTs, \n",
    "                                      1, 1) for pid in pids], axis=0)\\\n",
    "        * (M2**2-M1**2) / 2/np.pi * conversion\n",
    "    Y1 = np.sum([DY_dsigma_dQ2kTdkTdy(400, mN, mN, mN, pPDF, pPDF,\n",
    "                                      pid, Mavg, Rap, kTs, \n",
    "                                      1, 195, mode='el') for pid in pids], axis=0)\\\n",
    "        * (M2**2-M1**2) / 2/np.pi * conversion\n",
    "    Y2 = np.sum([DY_dsigma_dQ2kTdkTdy(400, mN, mN, mN, pPDF, pPDF,\n",
    "                                      pid, Mavg, Rap, kTs, \n",
    "                                      1, 195, mode='rad') for pid in pids], axis=0)\\\n",
    "        * (M2**2-M1**2) / 2/np.pi * conversion\n",
    "    X.append(kTs)\n",
    "    Yvac.append(Y0)\n",
    "    Ycoll.append(Y1)\n",
    "    Yrad.append(Y2)\n",
    "    ax.plot(kTs, Y0, 'k-', label=r'TMD, vac')\n",
    "    ax.plot(kTs, Y1, 'r-', label=r'TMD, vac+coll')\n",
    "    ax.plot(kTs, Y2, 'b-.', label=r'TMD, vac+coll+rad')\n",
    "    ax.errorbar(x, y, yerr=yerr, fmt='k.', label='PRD23(1981)604' )\n",
    "    \n",
    "    ax.set_title(r\"${}<M_{{\\mu^+\\mu^-}}<{}$ GeV\".format(M1, M2), fontsize=13)\n",
    "    ax.set_xlabel(r\"$k_T$ [GeV]\", fontsize=13)\n",
    "    ax.semilogy()\n",
    "for ax in axes:\n",
    "    if ax.is_first_col():\n",
    "        ax.set_ylabel(r\"$d\\sigma/\\pi dk_T^2 dy$ [nb/GeV${}^2$]\", fontsize=13)\n",
    "axes[2].legend()\n",
    "#ax.semilogy()\n",
    "ax.set_ylim(1e-8,1e-2)\n",
    "ax.set_xlim(0,5)\n",
    "plt.tight_layout()\n",
    "plt.savefig(\"figs/DY-pPt-vacuum-calulation.png\", dpi=300)"
   ]
  },
  {
   "cell_type": "code",
   "execution_count": 180,
   "id": "858ccaf5",
   "metadata": {},
   "outputs": [
    {
     "data": {
      "image/png": "[encoded data removed]",
      "text/plain": [
       "<Figure size 270x234 with 1 Axes>"
      ]
     },
     "metadata": {
      "needs_background": "light"
     },
     "output_type": "display_data"
    }
   ],
   "source": [
    "# make plots\n",
    "fig, ax = plt.subplots(ncols=1, nrows=1, figsize=(3.75, 3.25), sharex=True, sharey=True)\n",
    "conversion = 1/5.076**2 * 0.01 * 10**9\n",
    "for (M1, M2), yvac, color, color2 in zip([(5,6),(6,7),(7,8)], Yvac, [cr, cg, cb], [cr2, cg2, cb2]):\n",
    "    x, xl, xh, y, yerr = np.loadtxt(\"./Expdata/DY-kT-sqrts400-Q-{}-{}.dat\".format(M1, M2), usecols=[0,1,2,3,4]).T\n",
    "    E = 1/10**6\n",
    "    y *= E\n",
    "    yerr *= E\n",
    "    \n",
    "    cut = (kTs<2.25)\n",
    "    ax.plot(kTs[cut], yvac[cut], '-', lw=2, color=color, label=r\"${}<M<{}$ GeV\".format(M1, M2))\n",
    "    ax.errorbar(x, y, yerr=yerr, fmt='.', color=color2, label='PRD23(1981)604'if M1==5 else '' )\n",
    "    \n",
    "ax.set_xlabel(r\"$p_T$ [GeV]\", fontsize=13)\n",
    "ax.set_ylabel(r\"$d\\sigma/p_T dp_T dy d\\phi $ [nb/GeV${}^2$]\", fontsize=13)\n",
    "ax.legend(loc='upper right')\n",
    "ax.semilogy()\n",
    "ax.set_ylim(1e-6,1e-1)\n",
    "ax.set_xlim(0,4.5)\n",
    "            \n",
    "plt.tight_layout()\n",
    "plt.savefig(\"figs/DY-pPt-vacuum-calulation.png\", dpi=300)"
   ]
  },
  {
   "cell_type": "code",
   "execution_count": 799,
   "id": "722a9fcf",
   "metadata": {
    "scrolled": true
   },
   "outputs": [
    {
     "data": {
      "image/png": "[encoded data removed]",
      "text/plain": [
       "<Figure size 270x234 with 1 Axes>"
      ]
     },
     "metadata": {
      "needs_background": "light"
     },
     "output_type": "display_data"
    }
   ],
   "source": [
    "fig, ax = plt.subplots(ncols=1, nrows=1, figsize=(3.75, 3.25), sharex=True, sharey=True)\n",
    "\n",
    "cr, cb = plt.cm.Reds(.7), plt.cm.Blues(.7)\n",
    "\n",
    "ax.plot(X[2], Ycoll[2]/Yvac[2], 'k-', label=r\"Coll., $\\rho_G=0.4$ fm${}^{-3}$\"+'\\n'+r\"         $\\xi^2=0.12$ GeV${}^2$\")\n",
    "ax.plot(X[2], Yrad[2]/Yvac[2], '--', color=cb, lw=2, label='Coll. + rad.')\n",
    "\n",
    "\n",
    "pT, pTl, pTh, y, stat, _ = np.loadtxt(\"./Expdata/NuSea-W-Be.dat\").T\n",
    "ax.errorbar(pT, y, yerr=stat, xerr=(pTh-pTl)/2, fmt='o', color=cb2, lw=2, alpha=1, label='E866 W/Be')\n",
    "\n",
    "ax.legend(fontsize=11)\n",
    "ax.plot([0,3],[1,1], 'k:')\n",
    "\n",
    "ax.set_xlim(0,2.35)\n",
    "ax.set_ylim(0.87, 1.22)\n",
    "plt.xlabel(r\"$p_T$ [GeV]\", fontsize=15)\n",
    "plt.ylabel(r\"$R_{pA}$\", fontsize=15)\n",
    "plt.tight_layout()\n",
    "plt.savefig(\"Coll-Rad.png\", dpi=300)"
   ]
  },
  {
   "cell_type": "code",
   "execution_count": null,
   "id": "5560c870",
   "metadata": {},
   "outputs": [],
   "source": []
  },
  {
   "cell_type": "code",
   "execution_count": null,
   "id": "fd2577ae",
   "metadata": {},
   "outputs": [],
   "source": []
  },
  {
   "cell_type": "code",
   "execution_count": null,
   "id": "350cdf0d",
   "metadata": {},
   "outputs": [],
   "source": []
  },
  {
   "cell_type": "code",
   "execution_count": null,
   "id": "f7204155",
   "metadata": {},
   "outputs": [],
   "source": []
  },
  {
   "cell_type": "code",
   "execution_count": null,
   "id": "c4b72b0b",
   "metadata": {},
   "outputs": [],
   "source": []
  },
  {
   "cell_type": "code",
   "execution_count": null,
   "id": "1818e366",
   "metadata": {},
   "outputs": [],
   "source": []
  },
  {
   "cell_type": "code",
   "execution_count": null,
   "id": "79eaba2a",
   "metadata": {},
   "outputs": [],
   "source": []
  },
  {
   "cell_type": "code",
   "execution_count": null,
   "id": "3041183d",
   "metadata": {},
   "outputs": [],
   "source": []
  },
  {
   "cell_type": "code",
   "execution_count": null,
   "id": "91ec2b9a",
   "metadata": {},
   "outputs": [],
   "source": []
  },
  {
   "cell_type": "code",
   "execution_count": null,
   "id": "8e2b279d",
   "metadata": {},
   "outputs": [],
   "source": []
  },
  {
   "cell_type": "code",
   "execution_count": null,
   "id": "9f5d30b9",
   "metadata": {},
   "outputs": [],
   "source": []
  },
  {
   "cell_type": "code",
   "execution_count": null,
   "id": "9f2adca4",
   "metadata": {},
   "outputs": [],
   "source": []
  },
  {
   "cell_type": "code",
   "execution_count": null,
   "id": "827a5e79",
   "metadata": {},
   "outputs": [],
   "source": []
  },
  {
   "cell_type": "code",
   "execution_count": null,
   "id": "eee67f6d",
   "metadata": {},
   "outputs": [],
   "source": []
  },
  {
   "cell_type": "code",
   "execution_count": null,
   "id": "cc485a04",
   "metadata": {},
   "outputs": [],
   "source": []
  },
  {
   "cell_type": "code",
   "execution_count": null,
   "id": "cdfd01bf",
   "metadata": {},
   "outputs": [],
   "source": []
  },
  {
   "cell_type": "code",
   "execution_count": null,
   "id": "a769de0b",
   "metadata": {},
   "outputs": [],
   "source": []
  },
  {
   "cell_type": "code",
   "execution_count": null,
   "id": "75017f47",
   "metadata": {},
   "outputs": [],
   "source": []
  },
  {
   "cell_type": "code",
   "execution_count": null,
   "id": "d3ffef2f",
   "metadata": {},
   "outputs": [],
   "source": []
  },
  {
   "cell_type": "code",
   "execution_count": null,
   "id": "6e385039",
   "metadata": {},
   "outputs": [],
   "source": []
  },
  {
   "cell_type": "code",
   "execution_count": 83,
   "id": "e9b56dfc",
   "metadata": {},
   "outputs": [],
   "source": [
    "def DY_dsigma_kTdkT(\n",
    "        E1, E2, m1, m2, PDF1, PDF2,\n",
    "        kT, \n",
    "        A1, A2, mode,\n",
    "        x1l, x1h, x2l, x2h, M2l, M2h, xFl, xFh):\n",
    "    P1 = np.sqrt(np.abs(E1**2-m1**2)); P2 = np.sqrt(np.abs(E2**2-m2**2))\n",
    "    sqrts = np.sqrt(2*E1*E2 + 2*P1*P2 + m1**2 + m2**2)\n",
    "    Nz = 51\n",
    "    Qmax = np.sqrt(M2h)\n",
    "    pids = [ 1,2,3,-1,-2,-3]\n",
    "    integ = vegas.Integrator([[x1l,       x1h], \n",
    "                              [x2l,       x2h], \n",
    "                              [np.log(0.1/Qmax), np.log(10/np.sqrt(g1f))]\n",
    "                             ])\n",
    "\n",
    "    Prefactor = 4*np.pi*alpha_em**2*2/3./NC\n",
    "    def df(XS):\n",
    "        x1, x2, lnb = XS\n",
    "        tau = x1*x2\n",
    "        M2 = sqrts**2*tau\n",
    "        if  M2<M2l or M2>M2h:\n",
    "            return 0\n",
    "        xF = x1-x2\n",
    "        if  xF<xFl or xF>xFh:\n",
    "            return 0\n",
    "        \n",
    "        Q = M2**0.5\n",
    "        b = np.exp(lnb)\n",
    "        z1 = np.exp(np.linspace(np.log(x1),np.log(.9999), Nz))\n",
    "        dlnz1 = np.log(z1[1]/z1[0])\n",
    "        z2 = np.exp(np.linspace(np.log(x2),np.log(.9999), Nz))\n",
    "        dlnz2 = np.log(z2[1]/z2[0])    \n",
    "        \n",
    "        res = 0.0\n",
    "        for pid in pids:\n",
    "            ch= {1:1/3, 2:2/3, 3:1/3}[np.abs(pid)]\n",
    "            tmd1 = TMDPDF_in_A(A2, PDF1, pid, z1, dlnz1, b, Q, E1, mode)\n",
    "            tmd2 = TMDPDF_in_A(A1, PDF2, -pid, z2, dlnz2, b, Q, E2, mode)\n",
    "            res += ch**2 * tmd1 * tmd2\n",
    "        return res * jv(0, kT*b) * b**2\n",
    "    \n",
    "    result = integ(df, nitn=20, neval=4000)\n",
    "    print(kT, 'result = %s    Q = %.2f' % (result, result.Q))\n",
    "    return result.val * Prefactor, result.sdev * Prefactor"
   ]
  },
  {
   "cell_type": "code",
   "execution_count": null,
   "id": "217f66c9",
   "metadata": {},
   "outputs": [],
   "source": []
  },
  {
   "cell_type": "code",
   "execution_count": null,
   "id": "0e930c9c",
   "metadata": {},
   "outputs": [],
   "source": []
  },
  {
   "cell_type": "code",
   "execution_count": 84,
   "id": "4351d027",
   "metadata": {},
   "outputs": [
    {
     "name": "stdout",
     "output_type": "stream",
     "text": [
      "0.15 result = 0.0017003(29)    Q = 0.05\n",
      "0.385 result = 0.0014903(25)    Q = 0.43\n",
      "0.62 result = 0.0011884(23)    Q = 0.22\n",
      "0.8550000000000001 result = 0.0008879(20)    Q = 0.05\n",
      "1.09 result = 0.0006428(19)    Q = 0.62\n",
      "1.325 result = 0.0004544(17)    Q = 0.73\n",
      "1.56 result = 0.0003101(14)    Q = 0.80\n",
      "1.795 result = 0.0002030(14)    Q = 0.17\n",
      "2.0300000000000002 result = 0.0001239(14)    Q = 0.72\n",
      "2.265 result = 0.0000643(13)    Q = 1.00\n",
      "2.5 result = 0.0000217(14)    Q = 0.16\n"
     ]
    }
   ],
   "source": [
    "# E886\n",
    "Eproton = 800\n",
    "mN = 0.938\n",
    "sqrts = np.sqrt(2*Eproton*mN+2*mN**2)\n",
    "kT = np.linspace(.15, 2.5, 11)\n",
    "x1l, x1h = 0.21, 0.95\n",
    "x2l, x2h = 0.01, 0.12\n",
    "M2l, M2h = 4**2, 8.4**2\n",
    "xFl, xFh = 0.13, 0.93\n",
    "Fe = np.array([DY_dsigma_kTdkT(\n",
    "                            Eproton, mN, mN, mN, pPDF, FePDF,\n",
    "                            ikT, \n",
    "                            1, 56, 'inel',\n",
    "                            x1l, x1h, x2l, x2h, M2l, M2h, xFl, xFh) for ikT in kT])"
   ]
  },
  {
   "cell_type": "code",
   "execution_count": 85,
   "id": "a3b85588",
   "metadata": {},
   "outputs": [
    {
     "name": "stdout",
     "output_type": "stream",
     "text": [
      "0.15 result = 0.0018034(31)    Q = 0.68\n",
      "0.385 result = 0.0015748(27)    Q = 0.35\n",
      "0.62 result = 0.0012569(23)    Q = 0.53\n",
      "0.8550000000000001 result = 0.0009356(20)    Q = 0.34\n",
      "1.09 result = 0.0006704(20)    Q = 0.78\n",
      "1.325 result = 0.0004709(18)    Q = 0.80\n",
      "1.56 result = 0.0003183(16)    Q = 0.62\n",
      "1.795 result = 0.0002084(15)    Q = 0.19\n",
      "2.0300000000000002 result = 0.0001239(15)    Q = 0.36\n",
      "2.265 result = 0.0000590(14)    Q = 0.59\n",
      "2.5 result = 0.0000173(15)    Q = 0.95\n"
     ]
    }
   ],
   "source": [
    "Be = np.array([DY_dsigma_kTdkT(\n",
    "                            Eproton, mN, mN, mN, pPDF, BePDF,\n",
    "                            ikT, \n",
    "                            1, 9, 'inel',\n",
    "                            x1l, x1h, x2l, x2h, M2l, M2h, xFl, xFh) for ikT in kT])"
   ]
  },
  {
   "cell_type": "code",
   "execution_count": 86,
   "id": "55e106a6",
   "metadata": {},
   "outputs": [
    {
     "name": "stdout",
     "output_type": "stream",
     "text": [
      "0.15 result = 0.0015933(27)    Q = 0.39\n",
      "0.385 result = 0.0013999(23)    Q = 0.49\n",
      "0.62 result = 0.0011179(21)    Q = 0.44\n",
      "0.8550000000000001 result = 0.0008404(19)    Q = 0.30\n",
      "1.09 result = 0.0006126(17)    Q = 0.52\n",
      "1.325 result = 0.0004338(15)    Q = 0.17\n",
      "1.56 result = 0.0003021(15)    Q = 0.96\n",
      "1.795 result = 0.0002007(13)    Q = 0.46\n",
      "2.0300000000000002 result = 0.0001214(13)    Q = 0.10\n",
      "2.265 result = 0.0000663(13)    Q = 0.22\n",
      "2.5 result = 0.0000270(13)    Q = 0.54\n"
     ]
    }
   ],
   "source": [
    "W = np.array([DY_dsigma_kTdkT(\n",
    "                            Eproton, mN, mN, mN, pPDF, WPDF,\n",
    "                            ikT, \n",
    "                            1, 184, 'inel',\n",
    "                            x1l, x1h, x2l, x2h, M2l, M2h, xFl, xFh) for ikT in kT])"
   ]
  },
  {
   "cell_type": "code",
   "execution_count": 408,
   "id": "688ce2c8",
   "metadata": {},
   "outputs": [
    {
     "name": "stderr",
     "output_type": "stream",
     "text": [
      "/home/weiyao/miniconda3/lib/python3.7/site-packages/ipykernel_launcher.py:28: MatplotlibDeprecationWarning: Passing the pad parameter of tight_layout() positionally is deprecated since Matplotlib 3.3; the parameter will become keyword-only two minor releases later.\n"
     ]
    },
    {
     "data": {
      "image/png": "[encoded data removed]",
      "text/plain": [
       "<Figure size 216x187.2 with 1 Axes>"
      ]
     },
     "metadata": {
      "needs_background": "light"
     },
     "output_type": "display_data"
    }
   ],
   "source": [
    "# plot E866\n",
    "fig, ax = plt.subplots(1,1, figsize=(3.,2.6))\n",
    "cb, cr = plt.cm.Blues(.7), plt.cm.Reds(.7)\n",
    "\n",
    "RA = Fe[:,0]/Be[:,0]\n",
    "dRA = RA*np.sqrt((Fe[:,1]/Fe[:,0])**2+(Be[:,1]/Be[:,0])**2)\n",
    "ax.fill_between(kT, RA-dRA, RA+dRA, color=cr, alpha=0.75)\n",
    "\n",
    "RA = W[:,0]/Be[:,0]\n",
    "dRA = RA*np.sqrt((W[:,1]/W[:,0])**2+(Be[:,1]/Be[:,0])**2)\n",
    "ax.fill_between(kT, RA-dRA, RA+dRA, color=cb, alpha=0.75)\n",
    "\n",
    "pT, pTl, pTh, y, stat, _ = np.loadtxt(\"./Expdata/NuSea-Fe-Be.dat\").T\n",
    "ax.errorbar(pT, y, yerr=stat, xerr=(pTh-pTl)/2,fmt='o', color=cr, lw=2, alpha=1, label='E866 Fe/Be')\n",
    " \n",
    "pT, pTl, pTh, y, stat, _ = np.loadtxt(\"./Expdata/NuSea-W-Be.dat\").T\n",
    "ax.errorbar(pT, y, yerr=stat, xerr=(pTh-pTl)/2,fmt='s', color=cb, lw=2, alpha=1, label='E866 W/Be')\n",
    "\n",
    "\n",
    "ax.legend(loc=(.0,.7), fontsize=13, framealpha=0)\n",
    "ax.set_ylabel(r\"$\\sigma^{pA}/\\sigma^{ pB}$\", fontsize=15)\n",
    "ax.set_xlabel(r\"$p_T$ [GeV]\", fontsize=15)\n",
    "\n",
    "ax.set_xticks([0,.5,1,1.5,2,2.5,3,3.5])\n",
    "ax.set_xlim(0,3.)\n",
    "ax.set_ylim(0.8, 1.3)\n",
    "ax.plot([0,3],[1,1],'k:')\n",
    "plt.tight_layout(True)\n",
    "plt.subplots_adjust(left=.21, right=0.96, top=.97, bottom=.2)\n",
    "\n",
    "plt.savefig(\"Compare_to_E886.png\", dpi=300)"
   ]
  },
  {
   "cell_type": "code",
   "execution_count": null,
   "id": "bb60356b",
   "metadata": {},
   "outputs": [],
   "source": []
  },
  {
   "cell_type": "code",
   "execution_count": 89,
   "id": "454962b1",
   "metadata": {},
   "outputs": [
    {
     "name": "stdout",
     "output_type": "stream",
     "text": [
      "0.15 result = 0.003521(11)    Q = 0.02\n",
      "0.36 result = 0.0031472(95)    Q = 0.57\n",
      "0.5700000000000001 result = 0.002631(10)    Q = 0.45\n",
      "0.7800000000000001 result = 0.0020345(75)    Q = 0.10\n",
      "0.9900000000000001 result = 0.0015339(57)    Q = 0.20\n",
      "1.2 result = 0.0011442(63)    Q = 0.70\n",
      "1.4100000000000001 result = 0.0008244(61)    Q = 0.77\n",
      "1.62 result = 0.0005691(49)    Q = 0.68\n",
      "1.83 result = 0.0003873(47)    Q = 0.21\n",
      "2.04 result = 0.0002363(46)    Q = 0.39\n",
      "2.25 result = 0.0001220(47)    Q = 0.41\n",
      "0.15 result = 0.0032355(91)    Q = 0.09\n",
      "0.36 result = 0.0029052(88)    Q = 0.45\n",
      "0.5700000000000001 result = 0.0024167(94)    Q = 0.46\n",
      "0.7800000000000001 result = 0.0018938(73)    Q = 0.01\n",
      "0.9900000000000001 result = 0.0014391(57)    Q = 0.62\n",
      "1.2 result = 0.0010582(49)    Q = 0.09\n",
      "1.4100000000000001 result = 0.0007798(60)    Q = 0.98\n",
      "1.62 result = 0.0005492(39)    Q = 0.52\n",
      "1.83 result = 0.0003735(39)    Q = 0.59\n",
      "2.04 result = 0.0002410(47)    Q = 0.97\n",
      "2.25 result = 0.0001313(40)    Q = 0.03\n"
     ]
    }
   ],
   "source": [
    "# E772\n",
    "Eproton = 800\n",
    "kT = np.linspace(.15, 2.25, 11)\n",
    "x1l, x1h = 0.01, 0.9\n",
    "x2l, x2h = 0.01, 0.9\n",
    "M2l, M2h = 4.5**2, 9**2\n",
    "xFl, xFh = -0.1,0.75\n",
    "\n",
    "\n",
    "D772 = np.array([DY_dsigma_kTdkT(\n",
    "                            Eproton, mN, mN, mN, pPDF, dPDF,\n",
    "                            ikT, \n",
    "                            1, 2, 'inel',\n",
    "                            x1l, x1h, x2l, x2h, M2l, M2h, xFl, xFh) for ikT in kT])\n",
    "\n",
    "Fe772 = np.array([DY_dsigma_kTdkT(\n",
    "                            Eproton, mN, mN, mN, pPDF, FePDF,\n",
    "                            ikT, \n",
    "                            1, 56, 'inel',\n",
    "                            x1l, x1h, x2l, x2h, M2l, M2h, xFl, xFh) for ikT in kT])\n"
   ]
  },
  {
   "cell_type": "code",
   "execution_count": 409,
   "id": "d1def6e5",
   "metadata": {},
   "outputs": [
    {
     "name": "stderr",
     "output_type": "stream",
     "text": [
      "/home/weiyao/miniconda3/lib/python3.7/site-packages/ipykernel_launcher.py:21: MatplotlibDeprecationWarning: Passing the pad parameter of tight_layout() positionally is deprecated since Matplotlib 3.3; the parameter will become keyword-only two minor releases later.\n"
     ]
    },
    {
     "data": {
      "image/png": "[encoded data removed]",
      "text/plain": [
       "<Figure size 216x187.2 with 1 Axes>"
      ]
     },
     "metadata": {
      "needs_background": "light"
     },
     "output_type": "display_data"
    }
   ],
   "source": [
    "#E772\n",
    "fig, ax = plt.subplots(1,1, figsize=(3.,2.6))\n",
    "cb, cr = plt.cm.Blues(.7), plt.cm.Reds(.7)\n",
    "\n",
    "\n",
    "RA = Fe772[:,0]/D772[:,0]\n",
    "dRA = RA*np.sqrt((Fe772[:,1]/Fe772[:,0])**2+(D772[:,1]/D772[:,0])**2)\n",
    "ax.fill_between(kT, RA-dRA, RA+dRA, color='k', alpha=0.5)\n",
    " \n",
    "pT, y, stat, _ = np.loadtxt(\"./Expdata/E772.dat\").T\n",
    "ax.errorbar(pT, y, yerr=stat, fmt='D', color='k', lw=2, alpha=1, label='E772 Fe/$d$')\n",
    "\n",
    "ax.legend(loc=(.0,.8), fontsize=13, framealpha=0)\n",
    "ax.set_ylabel(r\"$\\sigma^{pA}/\\sigma^{ pB}$\", fontsize=15)\n",
    "ax.set_xlabel(r\"$p_T$ [GeV]\", fontsize=15)\n",
    "\n",
    "ax.set_xticks([0,.5,1,1.5,2,2.5,3,3.5])\n",
    "ax.set_xlim(0,3.)\n",
    "ax.plot([0,3],[1,1],'k:')\n",
    "ax.set_ylim(0.8, 1.3)\n",
    "plt.tight_layout(True)\n",
    "plt.subplots_adjust(left=.21, right=0.96, top=.97, bottom=.2)\n",
    "\n",
    "plt.savefig(\"Compare_to_E772.png\", dpi=300)"
   ]
  },
  {
   "cell_type": "code",
   "execution_count": null,
   "id": "7a02883a",
   "metadata": {},
   "outputs": [],
   "source": []
  },
  {
   "cell_type": "code",
   "execution_count": null,
   "id": "e4fa0d70",
   "metadata": {},
   "outputs": [],
   "source": []
  },
  {
   "cell_type": "code",
   "execution_count": null,
   "id": "830bd1cb",
   "metadata": {},
   "outputs": [],
   "source": []
  },
  {
   "cell_type": "code",
   "execution_count": null,
   "id": "f52e9625",
   "metadata": {
    "scrolled": false
   },
   "outputs": [],
   "source": []
  },
  {
   "cell_type": "code",
   "execution_count": null,
   "id": "20f28a8f",
   "metadata": {},
   "outputs": [],
   "source": []
  },
  {
   "cell_type": "code",
   "execution_count": 91,
   "id": "59c1a6db",
   "metadata": {},
   "outputs": [
    {
     "name": "stdout",
     "output_type": "stream",
     "text": [
      "0.15 result = 0.0044945(97)    Q = 0.29\n",
      "0.36 result = 0.0039461(91)    Q = 0.31\n",
      "0.5700000000000001 result = 0.0031248(73)    Q = 0.15\n",
      "0.7800000000000001 result = 0.0023331(66)    Q = 0.45\n",
      "0.9900000000000001 result = 0.0016360(59)    Q = 0.46\n",
      "1.2 result = 0.0011098(56)    Q = 0.15\n",
      "1.4100000000000001 result = 0.0007105(41)    Q = 0.09\n",
      "1.62 result = 0.0004255(43)    Q = 0.52\n",
      "1.83 result = 0.0002211(43)    Q = 0.33\n",
      "2.04 result = 0.0000844(42)    Q = 0.38\n",
      "2.25 result = -0.0000227(41)    Q = 0.68\n",
      "0.15 result = 0.004765(12)    Q = 0.90\n",
      "0.36 result = 0.0041627(90)    Q = 0.45\n",
      "0.5700000000000001 result = 0.0032917(75)    Q = 0.20\n",
      "0.7800000000000001 result = 0.0024130(69)    Q = 0.88\n",
      "0.9900000000000001 result = 0.0016844(64)    Q = 0.27\n",
      "1.2 result = 0.0011203(52)    Q = 0.39\n",
      "1.4100000000000001 result = 0.0007111(47)    Q = 0.64\n",
      "1.62 result = 0.0004308(47)    Q = 0.66\n",
      "1.83 result = 0.0002230(44)    Q = 0.19\n",
      "2.04 result = 0.0000668(45)    Q = 0.01\n",
      "2.25 result = -0.0000373(45)    Q = 0.81\n",
      "0.15 result = 0.0041733(79)    Q = 0.54\n",
      "0.36 result = 0.0036893(71)    Q = 0.47\n",
      "0.5700000000000001 result = 0.0029776(59)    Q = 0.63\n",
      "0.7800000000000001 result = 0.0022545(58)    Q = 0.14\n",
      "0.9900000000000001 result = 0.0016156(52)    Q = 0.36\n",
      "1.2 result = 0.0011448(45)    Q = 0.44\n",
      "1.4100000000000001 result = 0.0007663(49)    Q = 0.49\n",
      "1.62 result = 0.0005037(37)    Q = 0.65\n",
      "1.83 result = 0.0003128(40)    Q = 0.65\n",
      "2.04 result = 0.0001668(41)    Q = 0.26\n",
      "2.25 result = 0.0000621(38)    Q = 0.20\n",
      "0.15 result = 0.0043773(85)    Q = 0.22\n",
      "0.36 result = 0.0038426(70)    Q = 0.89\n",
      "0.5700000000000001 result = 0.0030886(68)    Q = 0.49\n",
      "0.7800000000000001 result = 0.0023047(54)    Q = 0.63\n",
      "0.9900000000000001 result = 0.0016568(57)    Q = 0.30\n",
      "1.2 result = 0.0011393(41)    Q = 0.72\n",
      "1.4100000000000001 result = 0.0007748(42)    Q = 0.89\n",
      "1.62 result = 0.0004923(40)    Q = 0.99\n",
      "1.83 result = 0.0002951(38)    Q = 0.03\n",
      "2.04 result = 0.0001467(37)    Q = 0.29\n",
      "2.25 result = 0.0000494(42)    Q = 0.51\n"
     ]
    }
   ],
   "source": [
    "# Compare to NA10\n",
    "kT = np.linspace(.15, 2.25, 11)\n",
    "x1l, x1h = 0.2, 0.8\n",
    "x2l, x2h = 0.1, 0.5\n",
    "M2l, M2h = 4.4**2, 8.5**2\n",
    "xFl, xFh = 0, 0.6\n",
    "\n",
    "#\"\"\"\n",
    "Epi1 = 140\n",
    "W_NA10_1 = np.array([DY_dsigma_kTdkT(\n",
    "                            Epi1, mN, mpi, mN, pimPDF, WPDF,\n",
    "                            ikT, \n",
    "                            1, 184, 'inel',\n",
    "                            x1l, x1h, x2l, x2h, M2l, M2h, xFl, xFh) for ikT in kT])\n",
    "D_NA10_1 = np.array([DY_dsigma_kTdkT(\n",
    "                            Epi1, mN, mpi, mN, pimPDF, dPDF,\n",
    "                            ikT, \n",
    "                            1, 2, 'inel',\n",
    "                            x1l, x1h, x2l, x2h, M2l, M2h, xFl, xFh) for ikT in kT])\n",
    "#\"\"\"\n",
    "\n",
    "Epi2 = 286\n",
    "W_NA10_2 = np.array([DY_dsigma_kTdkT(\n",
    "                            Epi2, mN, mpi, mN, pimPDF, WPDF,\n",
    "                            ikT, \n",
    "                            1, 184, 'inel',\n",
    "                            x1l, x1h, x2l, x2h, M2l, M2h, xFl, xFh) for ikT in kT])\n",
    "D_NA10_2 = np.array([DY_dsigma_kTdkT(\n",
    "                            Epi2, mN, mpi, mN, pimPDF, dPDF,\n",
    "                            ikT, \n",
    "                            1, 2, 'inel',\n",
    "                            x1l, x1h, x2l, x2h, M2l, M2h, xFl, xFh) for ikT in kT])"
   ]
  },
  {
   "cell_type": "code",
   "execution_count": 406,
   "id": "47bd27ec",
   "metadata": {
    "scrolled": true
   },
   "outputs": [
    {
     "data": {
      "image/png": "[encoded data removed]",
      "text/plain": [
       "<Figure size 216x187.2 with 1 Axes>"
      ]
     },
     "metadata": {
      "needs_background": "light"
     },
     "output_type": "display_data"
    }
   ],
   "source": [
    "#NA10\n",
    "fig, ax = plt.subplots(1,1, figsize=(3,2.6))\n",
    "cb, cr = plt.cm.Blues(.7), plt.cm.Reds(.7)\n",
    "\n",
    "Norm = (W_NA10_1[:,0]*kT).sum() / (D_NA10_1[:,0]*kT).sum()\n",
    "RA = W_NA10_1[:,0]/D_NA10_1[:,0] / Norm\n",
    "cut = (RA>.8)\n",
    "dRA = RA*np.sqrt((W_NA10_1[:,1]/W_NA10_1[:,0])**2+(D_NA10_1[:,1]/D_NA10_1[:,0])**2)\n",
    "ax.fill_between(kT[cut], (RA-dRA)[cut], (RA+dRA)[cut], color=cr, alpha=0.75)\n",
    " \n",
    "Norm = (W_NA10_2[:,0]*kT).sum() / (D_NA10_2[:,0]*kT).sum()\n",
    "RA = W_NA10_2[:,0]/D_NA10_2[:,0] / Norm\n",
    "dRA = RA*np.sqrt((W_NA10_2[:,1]/W_NA10_2[:,0])**2+(D_NA10_2[:,1]/D_NA10_2[:,0])**2)\n",
    "ax.fill_between(kT, RA-dRA, RA+dRA, color=cb, alpha=0.75)\n",
    " \n",
    "x,xl,xh,y,ystat=np.loadtxt(\"./Expdata/NA10-140-DY.dat\").T\n",
    "ax.errorbar(x,y,xerr=(xh-xl)/2, yerr=ystat, fmt='s', color=cr2, alpha=1, label=r\"NA10, $E_{\\pi^-}=140$ GeV\")\n",
    "x,xl,xh,y,ystat=np.loadtxt(\"./Expdata/NA10-286-DY.dat\").T\n",
    "ax.errorbar(x,y,xerr=(xh-xl)/2, yerr=ystat, fmt='o', color=cb2, alpha=1, label=r\"NA10, $E_{\\pi^-}=286$ GeV\")\n",
    "ax.set_xlabel(r\"$p_T$ [GeV]\", fontsize=15)\n",
    "ax.set_ylabel(r\"$N_{\\pi A}/N_{\\pi d}$\", fontsize=15)\n",
    "ax.legend(loc='lower right')\n",
    "ax.set_xlim(0,3)\n",
    "ax.set_ylim(0.8,1.3)\n",
    "ax.plot([0,3],[1,1],'k:')\n",
    "plt.tight_layout()\n",
    "plt.subplots_adjust(left=.21, right=0.98, top=.97, bottom=.2)\n",
    "plt.savefig(\"Compare_to_NA10.png\",dpi=300)"
   ]
  },
  {
   "cell_type": "code",
   "execution_count": null,
   "id": "58dcb18a",
   "metadata": {},
   "outputs": [],
   "source": []
  },
  {
   "cell_type": "code",
   "execution_count": null,
   "id": "7b519af0",
   "metadata": {},
   "outputs": [],
   "source": []
  },
  {
   "cell_type": "code",
   "execution_count": null,
   "id": "b7b96ae7",
   "metadata": {},
   "outputs": [],
   "source": [
    "# parton production\n",
    "\n",
    "# TMD for DY\n",
    "def TMDPDF_in_A(A, PDF, ipid, z, dlnz, b, Q, E0, mode):\n",
    "    bstar = b/np.sqrt(1+muNP**2*b**2)\n",
    "    mub = bscale/bstar\n",
    "    zeta0 = mub**2\n",
    "    abar = PDFalphas(mub**2)*CF/2/np.pi\n",
    "\n",
    "    delta_z = 0# CollEloss(z*E0, mub**2, A) if A>2 else 0\n",
    "    xFxQ2 = np.array([ PDF(ipid, ix, mub**2) if ix<0.99 else 0.\n",
    "                       for ix in z*(1+delta_z) ]) \\\n",
    "          / (1+delta_z)**(1+CF/2/CA)\n",
    "\n",
    "    Lb = np.log(mub**2*bstar**2/bscale**2)\n",
    "    Matching = \\\n",
    "    xFxQ2[0]*( 1. + abar*(Lb*np.log(mub**2/zeta0) - Lb**2/2. - np.pi**2/12.) )   \\\n",
    "      + abar*(      ( xFxQ2[::-1] * z*(1.-z) ).sum() \\\n",
    "           - Lb * ( ( xFxQ2[::-1]*(1+z**2) - 2.*xFxQ2[0] ) * z/(1.-z) ).sum()\n",
    "           ) * dlnz\n",
    "\n",
    "    return Matching \\\n",
    "        * CombinedEvolution(bstar, Q) \\\n",
    "        * np.exp(-b**2*A**(1/3)*0.12/4)\\\n",
    "        * TMD_NP(b, Q)\n",
    "\n",
    "\n",
    "@np.vectorize\n",
    "def Hadron(E1, E2, m1, m2, PDF1, PDF2,\n",
    "            pid, y, kT, \n",
    "            A1, A2, mode='el'):\n",
    "    ch= {1:1/3, 2:2/3, 3:1/3}[np.abs(pid)]\n",
    "    P1 = np.sqrt(np.abs(E1**2-m1**2)); P2 = np.sqrt(np.abs(E2**2-m2**2))\n",
    "    sqrts = np.sqrt(2*E1*E2 + 2*P1*P2 + m1**2 + m2**2)\n",
    "    Q = 1.0*kT\n",
    "    x1 = kT*np.exp(y)/sqrts\n",
    "    x2 = kT*np.exp(-y)/sqrts\n",
    "    if (x1<0) or (x1>1) or (x2<0) or (x2>1):\n",
    "        return 0\n",
    "    \n",
    "    Nz = 51\n",
    "    z1 = np.exp(np.linspace(np.log(x1),np.log(.99), Nz)); dlnz1 = np.log(z1[1]/z1[0])\n",
    "    z2 = np.exp(np.linspace(np.log(x2),np.log(.99), Nz)); dlnz2 = np.log(z2[1]/z2[0])    \n",
    "    #Prefactor = 4*np.pi*alpha_em**2/3./NC/Q**2/sqrts**2/x1/x2 * ch**2\n",
    "    \n",
    "    def df(lnb):\n",
    "        b = np.exp(lnb)\n",
    "        tmd1 = TMDPDF_in_A(A2, PDF1, pid, z1, dlnz1, b, Q, E1, mode)\n",
    "        tmd2 = TMDPDF_in_A(A1, PDF2, -pid, z2, dlnz2, b, Q, E2, mode)\n",
    "        return tmd1 * tmd2 * jv(0, kT*b) *  b**2 * (2.0*b*kv(1, 2.0*b))\n",
    "    \n",
    "    return quad(df, np.log(0.1/Q), np.log(10/np.sqrt(g1f)), epsrel=.01)[0]/x1/x2\n",
    "\n"
   ]
  },
  {
   "cell_type": "code",
   "execution_count": null,
   "id": "134d266f",
   "metadata": {},
   "outputs": [],
   "source": [
    "pT = np.linspace(.1,10,11)\n",
    "res0 = Hadron(100, 100, mN, mN, pPDF, pPDF,\n",
    "            2, 0, pT, \n",
    "            1, 1)"
   ]
  },
  {
   "cell_type": "code",
   "execution_count": null,
   "id": "229984b2",
   "metadata": {},
   "outputs": [],
   "source": [
    "res1 = Hadron(100, 100, mN, mN, WPDF, WPDF,\n",
    "            2, 0, pT, \n",
    "            197, 197, mode='el')"
   ]
  },
  {
   "cell_type": "code",
   "execution_count": null,
   "id": "9c570d22",
   "metadata": {},
   "outputs": [],
   "source": [
    "plt.plot(pT, res1/res0)\n",
    "plt.ylim(0.0,1.8)"
   ]
  },
  {
   "cell_type": "code",
   "execution_count": null,
   "id": "f9ab7aca",
   "metadata": {},
   "outputs": [],
   "source": [
    "0.035*1.2*208**(1/3)/0.12*0.75"
   ]
  },
  {
   "cell_type": "code",
   "execution_count": null,
   "id": "454f8b96",
   "metadata": {},
   "outputs": [],
   "source": []
  },
  {
   "cell_type": "code",
   "execution_count": 684,
   "id": "700a6784",
   "metadata": {},
   "outputs": [
    {
     "name": "stderr",
     "output_type": "stream",
     "text": [
      "/home/weiyao/miniconda3/lib/python3.7/site-packages/ipykernel_launcher.py:48: MatplotlibDeprecationWarning: The 's' parameter of annotate() has been renamed 'text' since Matplotlib 3.3; support for the old name will be dropped two minor releases later.\n",
      "/home/weiyao/miniconda3/lib/python3.7/site-packages/ipykernel_launcher.py:51: MatplotlibDeprecationWarning: The 's' parameter of annotate() has been renamed 'text' since Matplotlib 3.3; support for the old name will be dropped two minor releases later.\n",
      "/home/weiyao/miniconda3/lib/python3.7/site-packages/ipykernel_launcher.py:54: MatplotlibDeprecationWarning: The 's' parameter of annotate() has been renamed 'text' since Matplotlib 3.3; support for the old name will be dropped two minor releases later.\n"
     ]
    },
    {
     "data": {
      "image/png": "[encoded data removed]",
      "text/plain": [
       "<Figure size 237.6x205.2 with 1 Axes>"
      ]
     },
     "metadata": {},
     "output_type": "display_data"
    }
   ],
   "source": [
    "\n",
    "fig, ax = plt.subplots(1,1,figsize=(3.3,2.85))\n",
    "\n",
    "d=0.3\n",
    "\n",
    "x = np.linspace(-1, 6, 2000)\n",
    "ax.fill_between(x, -.1*x/x, 0.7**2/np.max([x, 0.01*x/x], axis=0), color='k', alpha=0.35)\n",
    "\n",
    "\n",
    "x = np.linspace(1e-3, 6, 2000)\n",
    "ax.plot(x, np.tan(np.pi/2*d)*x, '--', color=cr2, lw=1)\n",
    "ax.plot(x, np.tan(np.pi/2*(1-d))*x, '--', color=cr2, lw=1)\n",
    "\n",
    "C2 = 2\n",
    "cut = (np.tan(np.pi/2*d)*x<C2/x) & (C2/x< np.tan(np.pi/2*(1-d))*x)\n",
    "ax.plot(x[cut], C2/x[cut],'-', color=cr2, lw=2)\n",
    "\n",
    "cut = (np.tan(np.pi/2*d)*x>C2/x)\n",
    "ax.plot(x[cut], C2/x[cut], '-', color=cg2, lw=2)\n",
    "\n",
    "cut = (C2/x> np.tan(np.pi/2*(1-d))*x)\n",
    "ax.plot(x[cut], C2/x[cut], '-', color=cg2, lw=2)\n",
    "\n",
    "ax.plot(x, 18/x, '-', color=cb2, lw=2)\n",
    "\n",
    "ax.plot(x, 0.7**2/x, 'k--')\n",
    "\n",
    "ax.annotate(r\"$\\mathbf{NP}$\", xy=(.025,.025), \n",
    "            xycoords='axes fraction', fontsize=12, rotation=45)\n",
    "\n",
    "ax.set_xticks([])\n",
    "ax.set_yticks([])\n",
    "\n",
    "\n",
    "ax.annotate(\"$M^2$\", color=cb2, xy=(1.01,.7), rotation=0,\n",
    "            fontsize=12, xycoords='axes fraction')\n",
    "ax.annotate(r\"$1/b^2$\", color=cg2, xy=(1.01,.07), rotation=0,\n",
    "            fontsize=12, xycoords='axes fraction')\n",
    "ax.annotate(r\"$p^+/p^-=e^{2y}$\", color=cr2, xy=(.55, .33), fontsize=11, \n",
    "            xycoords='axes fraction', rotation=27)\n",
    "ax.annotate(r\"$p^+/p^-=e^{-2y}$\", color=cr2, xy=(.31, .55), fontsize=11, \n",
    "            xycoords='axes fraction', rotation=90-27)\n",
    "\n",
    "ax.annotate(r\"$p^+\\gg p^-$\", color=cg2, xy=(.5, .035), fontsize=11, xycoords='axes fraction', rotation=-7.5)\n",
    "ax.annotate(r\"$p^+\\ll p^-$\", color=cg2, xy=(.025, .4), fontsize=11, xycoords='axes fraction', rotation=-82.5)\n",
    "ax.annotate(\"$p^+$~$p^-$\", color=cr2, xy=(.13,.13), fontsize=11, xycoords='axes fraction', rotation=-45)\n",
    "\n",
    "ax.annotate(s='', xy=(1.04, 0.7), xytext=(1.04,0.12), xycoords='axes fraction',\n",
    "           arrowprops=dict(arrowstyle='<-', lw=2.5))\n",
    "\n",
    "ax.annotate(s='', xy=(.5, 0.4-.025), xytext=(.6,.2-.025), xycoords='axes fraction',\n",
    "           arrowprops=dict(arrowstyle='<->', lw=2.5))\n",
    "\n",
    "ax.annotate(s='', xy=(1.04, 0.08), xytext=(1.04,-.075), xycoords='axes fraction',\n",
    "           arrowprops=dict(arrowstyle='->', lw=2.5))\n",
    "\n",
    "\n",
    "ax.annotate(\"Evolution\\nin scale $\\mu^2$\", xy=(1.06, 0.25), \n",
    "           rotation=90, fontsize=12, xycoords='axes fraction')\n",
    "ax.annotate(\"Evolution \\nin rapidity $y$\", xy=(.59,.186), \n",
    "           rotation=27, fontsize=10, xycoords='axes fraction')\n",
    "\n",
    "\n",
    "ax.set_xlim(0.,5)\n",
    "ax.set_ylim(0,5)\n",
    "ax.set_xlabel(r\"$p^+$\", fontsize=15)\n",
    "ax.set_ylabel(r\"$p^-$\", fontsize=15)\n",
    "plt.tight_layout()\n",
    "ax.set_aspect('equal')\n",
    "\n",
    "plt.savefig(\"Modes-vac.png\", dpi=400, transparent=True)"
   ]
  },
  {
   "cell_type": "code",
   "execution_count": 797,
   "id": "699b398e",
   "metadata": {},
   "outputs": [
    {
     "name": "stderr",
     "output_type": "stream",
     "text": [
      "/home/weiyao/miniconda3/lib/python3.7/site-packages/ipykernel_launcher.py:52: MatplotlibDeprecationWarning: The 's' parameter of annotate() has been renamed 'text' since Matplotlib 3.3; support for the old name will be dropped two minor releases later.\n",
      "/home/weiyao/miniconda3/lib/python3.7/site-packages/ipykernel_launcher.py:56: MatplotlibDeprecationWarning: The 's' parameter of annotate() has been renamed 'text' since Matplotlib 3.3; support for the old name will be dropped two minor releases later.\n",
      "/home/weiyao/miniconda3/lib/python3.7/site-packages/ipykernel_launcher.py:59: MatplotlibDeprecationWarning: The 's' parameter of annotate() has been renamed 'text' since Matplotlib 3.3; support for the old name will be dropped two minor releases later.\n",
      "/home/weiyao/miniconda3/lib/python3.7/site-packages/ipykernel_launcher.py:63: MatplotlibDeprecationWarning: The 's' parameter of annotate() has been renamed 'text' since Matplotlib 3.3; support for the old name will be dropped two minor releases later.\n",
      "/home/weiyao/miniconda3/lib/python3.7/site-packages/ipykernel_launcher.py:67: MatplotlibDeprecationWarning: The 's' parameter of annotate() has been renamed 'text' since Matplotlib 3.3; support for the old name will be dropped two minor releases later.\n"
     ]
    },
    {
     "data": {
      "image/png": "[encoded data removed]",
      "text/plain": [
       "<Figure size 237.6x205.2 with 1 Axes>"
      ]
     },
     "metadata": {},
     "output_type": "display_data"
    }
   ],
   "source": [
    "\n",
    "fig, ax = plt.subplots(1,1,figsize=(3.3,2.85))\n",
    "\n",
    "d=0.375\n",
    "\n",
    "x = np.linspace(-1, 6, 2000)\n",
    "ax.fill_between(x, -.1*x/x, 0.7**2/np.max([x, 0.01*x/x], axis=0), color='k', alpha=0.35)\n",
    "\n",
    "\n",
    "x = np.linspace(1e-3, 6, 2000)\n",
    "ax.plot(x, np.tan(np.pi/2*d)*x, '--', color=cr2, lw=1)\n",
    "#ax.plot(x, np.tan(np.pi/2*(1-d))*x, '--', color=cr2, lw=1)\n",
    "\n",
    "C2 = 6\n",
    "cut = (np.tan(np.pi/2*d)*x<C2/x) & (C2/x< np.tan(np.pi/2*(1-d))*x)\n",
    "ax.plot(x[cut], C2/x[cut],'-', color=cr2, lw=2)\n",
    "\n",
    "cut = (np.tan(np.pi/2*d)*x>C2/x)\n",
    "ax.plot(x[cut], C2/x[cut], '-', color=cg2, lw=2)\n",
    "\n",
    "#cut = (C2/x> np.tan(np.pi/2*(1-d))*x)\n",
    "#ax.plot(x[cut], C2/x[cut], '-', color=cg2, lw=2)\n",
    "\n",
    "#ax.plot(x, 18/x, '-', color=cb2, lw=2)\n",
    "\n",
    "ax.plot(x, 0.7**2/x, 'k--')\n",
    "\n",
    "ax.annotate(r\"$\\mathbf{NP}$\", xy=(.025,.025), \n",
    "            xycoords='axes fraction', fontsize=12, rotation=45)\n",
    "\n",
    "ax.set_xticks([])\n",
    "ax.set_yticks([])\n",
    "\n",
    "\n",
    "#ax.annotate(\"$M^2$\", color=cb2, xy=(1.01,.7), rotation=0,\n",
    "#            fontsize=12, xycoords='axes fraction')\n",
    "ax.annotate(r\"$1/b^2$\", color=cg2, xy=(1.01,.23), rotation=0,\n",
    "            fontsize=12, xycoords='axes fraction')\n",
    "#ax.annotate(r\"$p^+/p^-=e^{2y}$\", color=cr2, xy=(.55, .33), fontsize=11, \n",
    "#            xycoords='axes fraction', rotation=27)\n",
    "#ax.annotate(r\"$p^+/p^-=e^{-2y}$\", color=cr2, xy=(.31, .55), fontsize=11, \n",
    "#            xycoords='axes fraction', rotation=90-27)\n",
    "\n",
    "#ax.annotate(r\"$p^+\\gg p^-$\", color=cg2, xy=(.7, .3), fontsize=11, xycoords='axes fraction', rotation=-7.5)\n",
    "#ax.annotate(r\"$p^+\\ll p^-$\", color=cg2, xy=(.025, .4), fontsize=11, xycoords='axes fraction', rotation=-82.5)\n",
    "ax.annotate(\"$p^+$~$p^-$\", color=cr2, xy=(.43,.43), fontsize=11, xycoords='axes fraction', rotation=-45)\n",
    "\n",
    "#ax.annotate(s='', xy=(1.04, 0.7), xytext=(1.04,0.12), xycoords='axes fraction',\n",
    "#           arrowprops=dict(arrowstyle='<-', lw=2.5))\n",
    "\n",
    "ax.annotate(s='', xy=(.42+.2, 0.25+.175), \n",
    "            xytext=(.62+.2,.2+.12), xycoords='axes fraction',\n",
    "           arrowprops=dict(arrowstyle='<->', lw=2.5))\n",
    "\n",
    "ax.annotate(s='', xy=(.5,0.3), \n",
    "            xytext=(.5,.05), xycoords='axes fraction',\n",
    "           arrowprops=dict(arrowstyle='->', lw=2.5))\n",
    "ax.annotate(s='', xy=(.65,0.3), \n",
    "            xytext=(.65,.05), xycoords='axes fraction',\n",
    "           arrowprops=dict(arrowstyle='->', lw=2.5))\n",
    "\n",
    "ax.annotate(s='', xy=(.8,0.3), \n",
    "            xytext=(.8,.05), xycoords='axes fraction',\n",
    "           arrowprops=dict(arrowstyle='->', lw=2.5))\n",
    "\n",
    "ax.annotate(s='', xy=(.95,0.25), \n",
    "            xytext=(.95,.05), xycoords='axes fraction',\n",
    "           arrowprops=dict(arrowstyle='->', lw=2.5))\n",
    "\n",
    "ax.plot([0,6],[1.5,1.5],':', color='orange')\n",
    "ax.plot(4,1.5, 'o', ms=4, color='orange')\n",
    "ax.annotate(\"$\\mu^2$\", xy=(.83, 0.125), \n",
    "           rotation=0, fontsize=12, xycoords='axes fraction')\n",
    "ax.annotate(\"$y$\", xy=(.745,.39), \n",
    "           rotation=0, fontsize=10, xycoords='axes fraction')\n",
    "\n",
    "ax.annotate(r\"$p^-=1/L^+$\", xy=(.4, 1.6), \n",
    "            color='orange', rotation=0, fontsize=12)\n",
    "ax.set_xlim(0.,5)\n",
    "ax.set_ylim(0,5)\n",
    "ax.set_xlabel(r\"$p^+$\", fontsize=15)\n",
    "ax.set_ylabel(r\"$p^-$\", fontsize=15)\n",
    "plt.tight_layout()\n",
    "ax.set_aspect('equal')\n",
    "ax.annotate(\"Medium-induced\\ncontributions\", xy=(1,4), fontsize=13)\n",
    "\n",
    "plt.savefig(\"Modes-med.png\", dpi=400, transparent=True)"
   ]
  },
  {
   "cell_type": "code",
   "execution_count": null,
   "id": "c02b3e21",
   "metadata": {},
   "outputs": [],
   "source": []
  }
 ],
 "metadata": {
  "kernelspec": {
   "display_name": "Python 3",
   "language": "python",
   "name": "python3"
  },
  "language_info": {
   "codemirror_mode": {
    "name": "ipython",
    "version": 3
   },
   "file_extension": ".py",
   "mimetype": "text/x-python",
   "name": "python",
   "nbconvert_exporter": "python",
   "pygments_lexer": "ipython3",
   "version": "3.7.3"
  }
 },
 "nbformat": 4,
 "nbformat_minor": 5
}
