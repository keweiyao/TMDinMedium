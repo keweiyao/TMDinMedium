{
 "cells": [
  {
   "cell_type": "code",
   "execution_count": 54,
   "id": "aa908591",
   "metadata": {},
   "outputs": [],
   "source": [
    "import numpy as np\n",
    "import matplotlib.pyplot as plt\n",
    "from scipy.interpolate import interp1d, interp2d\n",
    "from scipy.integrate import quad\n",
    "from scipy.special import digamma, iv, jv, kv\n",
    "import pickle\n",
    "\n",
    "Lambda2 = 0.15**2\n",
    "NC = 3.\n",
    "CA = np.copy(NC)\n",
    "CF = (NC**2-1)/(2.*NC)\n",
    "TR = 1./2.\n",
    "Nf = 3\n",
    "beta0 = 11/3.*CA - 4./3.*TR*Nf\n",
    "muD2 = 0.12\n",
    "muD = np.sqrt(muD2)\n",
    "\n",
    "muNP = 0.667\n",
    "\n",
    "def abarA(mu2):\n",
    "    return 4*np.pi/beta0/np.log(mu2/Lambda2) * CA/np.pi\n",
    "\n",
    "def abarF(mu2):\n",
    "    return 4*np.pi/beta0/np.log(mu2/Lambda2) * CF/np.pi"
   ]
  },
  {
   "cell_type": "code",
   "execution_count": 55,
   "id": "89e209af",
   "metadata": {},
   "outputs": [],
   "source": [
    "# initial condition of BFKL evolution\n",
    "def IC(lnb2):\n",
    "    b2 = np.exp(lnb2)\n",
    "    X = muD*np.sqrt(b2)\n",
    "    bstar2 = b2/(1+muD**2*b2)\n",
    "    return ( kv(0,X) - X/2. * kv(1,X) ) * abarF(1/bstar2) * 2*np.pi"
   ]
  },
  {
   "cell_type": "code",
   "execution_count": 56,
   "id": "4564262b",
   "metadata": {},
   "outputs": [
    {
     "name": "stdout",
     "output_type": "stream",
     "text": [
      "0\n"
     ]
    },
    {
     "name": "stderr",
     "output_type": "stream",
     "text": [
      "/home/weiyao/miniconda3/lib/python3.7/site-packages/ipykernel_launcher.py:38: IntegrationWarning: The maximum number of subdivisions (50) has been achieved.\n",
      "  If increasing the limit yields no improvement it is advised to analyze \n",
      "  the integrand in order to determine the difficulties.  If the position of a \n",
      "  local difficulty can be determined (singularity, discontinuity) one will \n",
      "  probably gain from splitting up the interval and calling the integrator \n",
      "  on the subranges.  Perhaps a special-purpose integrator should be used.\n"
     ]
    },
    {
     "name": "stdout",
     "output_type": "stream",
     "text": [
      "1\n"
     ]
    },
    {
     "name": "stderr",
     "output_type": "stream",
     "text": [
      "/home/weiyao/miniconda3/lib/python3.7/site-packages/ipykernel_launcher.py:39: IntegrationWarning: The maximum number of subdivisions (50) has been achieved.\n",
      "  If increasing the limit yields no improvement it is advised to analyze \n",
      "  the integrand in order to determine the difficulties.  If the position of a \n",
      "  local difficulty can be determined (singularity, discontinuity) one will \n",
      "  probably gain from splitting up the interval and calling the integrator \n",
      "  on the subranges.  Perhaps a special-purpose integrator should be used.\n"
     ]
    },
    {
     "name": "stdout",
     "output_type": "stream",
     "text": [
      "2\n",
      "3\n",
      "4\n",
      "5\n",
      "6\n",
      "7\n",
      "8\n",
      "9\n",
      "10\n",
      "11\n",
      "12\n",
      "13\n",
      "14\n",
      "15\n",
      "16\n",
      "17\n",
      "18\n",
      "19\n",
      "20\n",
      "21\n",
      "22\n",
      "23\n",
      "24\n",
      "25\n",
      "26\n",
      "27\n",
      "28\n",
      "29\n",
      "30\n",
      "31\n",
      "32\n",
      "33\n",
      "34\n",
      "35\n",
      "36\n",
      "37\n",
      "38\n",
      "39\n",
      "40\n",
      "41\n",
      "42\n",
      "43\n",
      "44\n",
      "45\n",
      "46\n",
      "47\n",
      "48\n",
      "49\n"
     ]
    }
   ],
   "source": [
    "@np.vectorize\n",
    "def BFKL_on_F(b2, F, R=1):\n",
    "    b = np.sqrt(b2)\n",
    "    R2b2 = R**2*b**2\n",
    "    Fb2 = F(np.log(b2))\n",
    "    \n",
    "    @np.vectorize\n",
    "    def I1(lnbp):\n",
    "        bp = np.exp(lnbp)\n",
    "        bp2 = bp**2\n",
    "        cphic = (bp2+b2-R2b2)/(2*b*bp)\n",
    "        B2 = np.abs(bp2-b2)\n",
    "        if (B2<1e-14):\n",
    "            return 0\n",
    "        if (cphic >= 1):\n",
    "            return 0.0\n",
    "        elif (cphic <= -1):\n",
    "            return (F(lnbp*2) - Fb2) / B2 * bp2 * 2*np.pi\n",
    "        else:\n",
    "            return (F(lnbp*2) - Fb2) / B2 * bp2\\\n",
    "                 * (2*np.arctan( (b+bp)**2/B2* np.sqrt((1-cphic)/(1+cphic)) ) ) *2 \n",
    "        \n",
    "    @np.vectorize\n",
    "    def I2(lnbp):\n",
    "        bp = np.exp(lnbp)\n",
    "        bp2 = bp**2\n",
    "        cphic = (bp2+b2-R2b2)/(2*b*bp)\n",
    "        B2 = np.abs(bp2-b2)\n",
    "        if (B2<1e-14):\n",
    "            return 0\n",
    "        if (cphic <= -1):\n",
    "            return 0.0\n",
    "        elif (cphic >= 1.):\n",
    "            return F(lnbp*2) / B2 * bp2 * 2*np.pi \n",
    "        else:\n",
    "            return F(lnbp*2) / B2 * bp2\\\n",
    "                 * (np.pi - 2*np.arctan( (b+bp)**2/B2* np.sqrt((1-cphic)/(1+cphic)) ) ) *2 \n",
    "    IA = quad(I1, np.log(np.max([b*(1-R),1e-4])), np.log((1+R)*b), epsrel=.01)[0]\n",
    "    IB = quad(I2, np.log(1e-4), np.log(100/muD), epsrel=.01)[0]\n",
    "    \n",
    "    bstar2 = b2/(1+muD**2*b2)\n",
    "    return abarA(1/bstar2)*2*((IA+IB)/ 2/np.pi + np.log(R)*Fb2)\n",
    "\n",
    "\n",
    "bb = np.exp(np.linspace(np.log(0.001), np.log(100), 51))/muD\n",
    "\n",
    "Ns = 50\n",
    "dlnx = np.log(100)/Ns\n",
    "Lx = np.linspace(0, dlnx*Ns, Ns)\n",
    "\n",
    "Solution = []\n",
    "for i in range(Ns):\n",
    "    print(i)\n",
    "    if i==0:\n",
    "        data = IC(np.log(bb**2))\n",
    "        \n",
    "    data[-1]=0\n",
    "    data[-2]=0    \n",
    "    F = interp1d(np.log(bb**2), data, kind='linear', fill_value='extrapolate', bounds_error=False)\n",
    "\n",
    "    Solution.append(F(np.log(bb**2)))\n",
    "    \n",
    "    # update F\n",
    "    dFdlnx = BFKL_on_F(bb**2, F)\n",
    "    data = data + dFdlnx * dlnx\n",
    "    \n",
    "\n",
    "Solution = np.array(Solution)"
   ]
  },
  {
   "cell_type": "code",
   "execution_count": 61,
   "id": "43364b60",
   "metadata": {},
   "outputs": [
    {
     "name": "stderr",
     "output_type": "stream",
     "text": [
      "/home/weiyao/miniconda3/lib/python3.7/site-packages/ipykernel_launcher.py:5: IntegrationWarning: The integral is probably divergent, or slowly convergent.\n",
      "  \"\"\"\n",
      "/home/weiyao/miniconda3/lib/python3.7/site-packages/ipykernel_launcher.py:5: IntegrationWarning: The maximum number of subdivisions (50) has been achieved.\n",
      "  If increasing the limit yields no improvement it is advised to analyze \n",
      "  the integrand in order to determine the difficulties.  If the position of a \n",
      "  local difficulty can be determined (singularity, discontinuity) one will \n",
      "  probably gain from splitting up the interval and calling the integrator \n",
      "  on the subranges.  Perhaps a special-purpose integrator should be used.\n",
      "  \"\"\"\n",
      "/home/weiyao/miniconda3/lib/python3.7/site-packages/ipykernel_launcher.py:11: IntegrationWarning: The maximum number of subdivisions (50) has been achieved.\n",
      "  If increasing the limit yields no improvement it is advised to analyze \n",
      "  the integrand in order to determine the difficulties.  If the position of a \n",
      "  local difficulty can be determined (singularity, discontinuity) one will \n",
      "  probably gain from splitting up the interval and calling the integrator \n",
      "  on the subranges.  Perhaps a special-purpose integrator should be used.\n",
      "  # This is added back by InteractiveShellApp.init_path()\n"
     ]
    }
   ],
   "source": [
    "# perofrm 1/nablab^2, by integrating over the result in b\n",
    "dsdb = []\n",
    "for it in Solution:\n",
    "    interpF = interp1d(np.log(bb), -it*bb, fill_value=0.)\n",
    "    dsdb.append( [quad(lambda x: interpF(np.log(x)), bb[0], ib, epsrel=.01)[0] for ib in bb] )\n",
    "dsdb = np.array(dsdb)\n",
    "\n",
    "sigma = []\n",
    "for it in dsdb:\n",
    "    interpF = interp1d(np.log(bb), it/bb, fill_value=0.)\n",
    "    sigma.append( [quad(lambda x: interpF(np.log(x)), bb[0], ib, epsrel=.01)[0] for ib in bb] )\n",
    "sigma = np.array(sigma)\n"
   ]
  },
  {
   "cell_type": "code",
   "execution_count": 62,
   "id": "1a16e5be",
   "metadata": {},
   "outputs": [],
   "source": [
    "# interpolation\n",
    "FG2d = interp2d(Lx, np.log(bb), sigma.T)"
   ]
  },
  {
   "cell_type": "code",
   "execution_count": 63,
   "id": "adf775c2",
   "metadata": {},
   "outputs": [],
   "source": [
    "# Save the interpolation function to file\n",
    "with open(\"BFKL_Evolved_Broadening_Factor.pkl\", \"wb\") as f:\n",
    "    pickle.dump(FG2d, f)"
   ]
  },
  {
   "cell_type": "code",
   "execution_count": null,
   "id": "67528f58",
   "metadata": {},
   "outputs": [],
   "source": []
  },
  {
   "cell_type": "code",
   "execution_count": 167,
   "id": "9ab21c9d",
   "metadata": {},
   "outputs": [
    {
     "name": "stdout",
     "output_type": "stream",
     "text": [
      "0.0\n",
      "0.28194919506049543\n",
      "0.5638983901209909\n",
      "0.8458475851814863\n",
      "1.1277967802419817\n",
      "1.409745975302477\n",
      "1.6916951703629726\n",
      "1.9736443654234679\n",
      "2.2555935604839634\n",
      "2.5375427555444587\n",
      "2.819491950604954\n",
      "3.1014411456654494\n",
      "(51, 1)\n"
     ]
    },
    {
     "name": "stderr",
     "output_type": "stream",
     "text": [
      "/home/weiyao/miniconda3/lib/python3.7/site-packages/ipykernel_launcher.py:37: MatplotlibDeprecationWarning: Passing the pad parameter of tight_layout() positionally is deprecated since Matplotlib 3.3; the parameter will become keyword-only two minor releases later.\n"
     ]
    },
    {
     "data": {
      "image/png": "[encoded data removed]",
      "text/plain": [
       "<Figure size 270x234 with 1 Axes>"
      ]
     },
     "metadata": {
      "needs_background": "light"
     },
     "output_type": "display_data"
    }
   ],
   "source": [
    "# A santiy check, the intial conditon should be (x*kv(1,x)-1)*abarF*pi/mD2\n",
    "\n",
    "\n",
    "\n",
    "A = 208\n",
    "rhoG = 0.4/5.068**3\n",
    "L = 1.2*(A**(1/3)-1)*0.75*5.068\n",
    "plt.figure(figsize=(3.75, 3.25))\n",
    "\n",
    "\n",
    "for i, (it, y) in enumerate( zip(sigma[::3][:-5], Lx[::3]) ):\n",
    "    print(y)\n",
    "    color = plt.cm.viridis(i/12)\n",
    "    plt.plot(1/(bb*muD), np.exp(rhoG*L*it), color=color, alpha=.85, lw=1.5)#, label=r'$\\Delta y={:1.2f}$'.format(y))\n",
    "    x = bb*muD\n",
    "    #plt.plot(1/(bb*muD)[::2], np.exp(rhoG*L/muD2*(x*kv(1,x)-1)*abarF(2)*np.pi)[::2], 'k.')\n",
    "\n",
    "#bstar = bb/np.sqrt(1+muNP**2*bb**2)\n",
    "rap = np.log(np.min([1+L/2/bb, 20*bb], axis=0))\n",
    "#print()\n",
    "yexp = np.exp(rhoG*L * np.array([FG2d(ia, ib) for ia, ib in zip(rap, np.log(bb))]) )\n",
    "print(yexp.shape)\n",
    "plt.plot(1/(bb*muD), yexp, '--', color=plt.cm.Reds(.7), lw=3, label=r'$y=\\min\\{y_{\\rm LPM}, y_{PS}\\}$')\n",
    "\n",
    "bbb = np.sqrt(L/40)\n",
    "rapp = np.log(20*bbb)\n",
    "plt.plot(1/bbb/muD, np.exp(rhoG*L *FG2d(rapp, np.log(bbb))) ,'rD', ms=5)\n",
    "plt.semilogx()\n",
    "plt.legend(fontsize=12)\n",
    "plt.xlim(3e-1,1e1)\n",
    "plt.ylim(0,1.)\n",
    "plt.annotate(r\"$y=0$\", xy=(.15,.87), xycoords=\"axes fraction\", fontsize=12, rotation=16.5)\n",
    "plt.annotate(r\"$y=3$\", xy=(.41,.53), xycoords=\"axes fraction\", fontsize=12, rotation=55)\n",
    "plt.xlabel(r\"$1/(\\xi b)$\", fontsize=15)\n",
    "plt.ylabel(r\"$e^{~\\rho_G L \\cdot \\Sigma_G(b,y)}$\", fontsize=20)\n",
    "#plt.title(\"Evolution of broadening factor\", fontsize=15)\n",
    "plt.tight_layout(True)\n",
    "plt.savefig(\"BFKL-G.png\", dpi=300)"
   ]
  },
  {
   "cell_type": "code",
   "execution_count": null,
   "id": "eb810ba4",
   "metadata": {},
   "outputs": [],
   "source": []
  },
  {
   "cell_type": "code",
   "execution_count": null,
   "id": "5f750e6e",
   "metadata": {},
   "outputs": [],
   "source": []
  },
  {
   "cell_type": "code",
   "execution_count": null,
   "id": "1156a533",
   "metadata": {},
   "outputs": [],
   "source": []
  },
  {
   "cell_type": "code",
   "execution_count": null,
   "id": "fc6add4b",
   "metadata": {},
   "outputs": [],
   "source": []
  },
  {
   "cell_type": "code",
   "execution_count": null,
   "id": "7f1940a6",
   "metadata": {},
   "outputs": [],
   "source": []
  },
  {
   "cell_type": "code",
   "execution_count": null,
   "id": "3163423e",
   "metadata": {},
   "outputs": [],
   "source": []
  }
 ],
 "metadata": {
  "kernelspec": {
   "display_name": "Python 3",
   "language": "python",
   "name": "python3"
  },
  "language_info": {
   "codemirror_mode": {
    "name": "ipython",
    "version": 3
   },
   "file_extension": ".py",
   "mimetype": "text/x-python",
   "name": "python",
   "nbconvert_exporter": "python",
   "pygments_lexer": "ipython3",
   "version": "3.7.3"
  }
 },
 "nbformat": 4,
 "nbformat_minor": 5
}
